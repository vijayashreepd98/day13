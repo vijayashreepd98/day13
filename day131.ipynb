{
 "cells": [
  {
   "cell_type": "code",
   "execution_count": 24,
   "metadata": {},
   "outputs": [],
   "source": [
    "text = \"Truly Kryptic is the best puzzle game. It's browser-based and free. Google it.\"\n"
   ]
  },
  {
   "cell_type": "code",
   "execution_count": 25,
   "metadata": {},
   "outputs": [
    {
     "data": {
      "text/plain": [
       "['truly',\n",
       " 'kryptic',\n",
       " 'is',\n",
       " 'the',\n",
       " 'best',\n",
       " 'puzzle',\n",
       " 'game',\n",
       " '.',\n",
       " 'it',\n",
       " \"'s\",\n",
       " 'browser-based',\n",
       " 'and',\n",
       " 'free',\n",
       " '.',\n",
       " 'google',\n",
       " 'it',\n",
       " '.']"
      ]
     },
     "execution_count": 25,
     "metadata": {},
     "output_type": "execute_result"
    }
   ],
   "source": [
    "\n",
    "from nltk import word_tokenize\n",
    "text_tokenized=word_tokenize(text.lower())\n",
    "text_tokenized\n"
   ]
  },
  {
   "cell_type": "code",
   "execution_count": 26,
   "metadata": {},
   "outputs": [
    {
     "data": {
      "text/plain": [
       "'Wordlists  en: English, http://en.wikipedia.org/wiki/Words_(Unix) en-basic: 850 English words: C.K. Ogden in The ABC of Basic English (1932) '"
      ]
     },
     "execution_count": 26,
     "metadata": {},
     "output_type": "execute_result"
    }
   ],
   "source": [
    "from nltk.corpus import words\n",
    "words.readme().replace('\\n',\" \")\n"
   ]
  },
  {
   "cell_type": "code",
   "execution_count": 27,
   "metadata": {},
   "outputs": [
    {
     "name": "stderr",
     "output_type": "stream",
     "text": [
      "[nltk_data] Error loading words: <urlopen error [Errno 11002]\n",
      "[nltk_data]     getaddrinfo failed>\n"
     ]
    },
    {
     "data": {
      "text/plain": [
       "False"
      ]
     },
     "execution_count": 27,
     "metadata": {},
     "output_type": "execute_result"
    }
   ],
   "source": [
    "import nltk\n",
    "nltk.download('words')"
   ]
  },
  {
   "cell_type": "code",
   "execution_count": 28,
   "metadata": {},
   "outputs": [
    {
     "data": {
      "text/plain": [
       "['en', 'en-basic']"
      ]
     },
     "execution_count": 28,
     "metadata": {},
     "output_type": "execute_result"
    }
   ],
   "source": [
    "words.fileids()"
   ]
  },
  {
   "cell_type": "code",
   "execution_count": 29,
   "metadata": {},
   "outputs": [
    {
     "data": {
      "text/plain": [
       "['A',\n",
       " 'a',\n",
       " 'aa',\n",
       " 'aal',\n",
       " 'aalii',\n",
       " 'aam',\n",
       " 'Aani',\n",
       " 'aardvark',\n",
       " 'aardwolf',\n",
       " 'Aaron']"
      ]
     },
     "execution_count": 29,
     "metadata": {},
     "output_type": "execute_result"
    }
   ],
   "source": [
    "words.words('en')[:10]"
   ]
  },
  {
   "cell_type": "code",
   "execution_count": 30,
   "metadata": {},
   "outputs": [
    {
     "data": {
      "text/plain": [
       "235886"
      ]
     },
     "execution_count": 30,
     "metadata": {},
     "output_type": "execute_result"
    }
   ],
   "source": [
    "len(words.words('en'))"
   ]
  },
  {
   "cell_type": "code",
   "execution_count": 31,
   "metadata": {},
   "outputs": [
    {
     "data": {
      "text/plain": [
       "850"
      ]
     },
     "execution_count": 31,
     "metadata": {},
     "output_type": "execute_result"
    }
   ],
   "source": [
    "len(words.words('en-basic'))"
   ]
  },
  {
   "cell_type": "markdown",
   "metadata": {},
   "source": [
    "### fining unusual words"
   ]
  },
  {
   "cell_type": "code",
   "execution_count": null,
   "metadata": {},
   "outputs": [],
   "source": []
  },
  {
   "cell_type": "code",
   "execution_count": 32,
   "metadata": {},
   "outputs": [
    {
     "data": {
      "text/plain": [
       "{'google'}"
      ]
     },
     "execution_count": 32,
     "metadata": {},
     "output_type": "execute_result"
    }
   ],
   "source": [
    "english_vocab=set(w.lower() for w in words.words())\n",
    "text_vocab=set(w.lower() for w in text_tokenized  if w.isalpha())\n",
    "unusual=text_vocab.difference(english_vocab)\n",
    "unusual"
   ]
  },
  {
   "cell_type": "code",
   "execution_count": 33,
   "metadata": {},
   "outputs": [
    {
     "data": {
      "text/plain": [
       "{'and',\n",
       " 'best',\n",
       " 'free',\n",
       " 'game',\n",
       " 'google',\n",
       " 'is',\n",
       " 'it',\n",
       " 'kryptic',\n",
       " 'puzzle',\n",
       " 'the',\n",
       " 'truly'}"
      ]
     },
     "execution_count": 33,
     "metadata": {},
     "output_type": "execute_result"
    }
   ],
   "source": [
    "text_vocab"
   ]
  },
  {
   "cell_type": "code",
   "execution_count": 34,
   "metadata": {},
   "outputs": [
    {
     "data": {
      "text/plain": [
       "{'gymnogyps',\n",
       " 'reunitive',\n",
       " 'slottery',\n",
       " 'angiopoietic',\n",
       " 'misenroll',\n",
       " 'mixe',\n",
       " 'polymorphean',\n",
       " 'choleic',\n",
       " 'unoecumenical',\n",
       " 'hylozoistic',\n",
       " 'procure',\n",
       " 'polypedates',\n",
       " 'proallotment',\n",
       " 'thyreoid',\n",
       " 'ganodus',\n",
       " 'inopinately',\n",
       " 'dicrotic',\n",
       " 'hunchy',\n",
       " 'negligible',\n",
       " 'molluscan',\n",
       " 'mehmandar',\n",
       " 'tropaeolum',\n",
       " 'unattainment',\n",
       " 'plurality',\n",
       " 'bottomlessness',\n",
       " 'thwartwise',\n",
       " 'hypersystolic',\n",
       " 'goriness',\n",
       " 'inveigle',\n",
       " 'plethodontidae',\n",
       " 'furfurine',\n",
       " 'pedrero',\n",
       " 'splanchnocoele',\n",
       " 'hypertonicity',\n",
       " 'unjoinable',\n",
       " 'vestiary',\n",
       " 'creesh',\n",
       " 'quadrioxalate',\n",
       " 'proteida',\n",
       " 'stenobregma',\n",
       " 'grammatics',\n",
       " 'overluxuriance',\n",
       " 'proletariat',\n",
       " 'sinistrad',\n",
       " 'malacopterygii',\n",
       " 'undeflected',\n",
       " 'confluently',\n",
       " 'aporrhais',\n",
       " 'foresail',\n",
       " 'bonewood',\n",
       " 'overwhelmer',\n",
       " 'gothish',\n",
       " 'supercerebellar',\n",
       " 'sviatonosite',\n",
       " 'alitrunk',\n",
       " 'consequentiality',\n",
       " 'scurviness',\n",
       " 'heliornis',\n",
       " 'biomechanical',\n",
       " 'hoofed',\n",
       " 'sursumduction',\n",
       " 'amphigene',\n",
       " 'canny',\n",
       " 'scape',\n",
       " 'nonexternal',\n",
       " 'halfpace',\n",
       " 'monoclinous',\n",
       " 'pilea',\n",
       " 'powsoddy',\n",
       " 'feigningly',\n",
       " 'vaporishness',\n",
       " 'cliquism',\n",
       " 'emotional',\n",
       " 'preaccessible',\n",
       " 'whooping',\n",
       " 'unwhetted',\n",
       " 'tuberiferous',\n",
       " 'oxycamphor',\n",
       " 'geminately',\n",
       " 'nonregenerating',\n",
       " 'antiturnpikeism',\n",
       " 'turki',\n",
       " 'unacademical',\n",
       " 'stylomandibular',\n",
       " 'impredicability',\n",
       " 'autoradiograph',\n",
       " 'cycladic',\n",
       " 'influxible',\n",
       " 'judophobism',\n",
       " 'severize',\n",
       " 'ungentlemanlike',\n",
       " 'exercitation',\n",
       " 'abnegation',\n",
       " 'debasedness',\n",
       " 'syndactylia',\n",
       " 'attaghan',\n",
       " 'indehiscent',\n",
       " 'morth',\n",
       " 'solecistically',\n",
       " 'cagily',\n",
       " 'escarbuncle',\n",
       " 'tusche',\n",
       " 'venoauricular',\n",
       " 'ultraindulgent',\n",
       " 'woolwa',\n",
       " 'underjacket',\n",
       " 'muraled',\n",
       " 'epilogist',\n",
       " 'reman',\n",
       " 'wauns',\n",
       " 'pictarnie',\n",
       " 'technician',\n",
       " 'palaeobotany',\n",
       " 'prolocutrix',\n",
       " 'tussle',\n",
       " 'guignol',\n",
       " 'creakiness',\n",
       " 'superdistention',\n",
       " 'reradiation',\n",
       " 'vantageless',\n",
       " 'prosthetic',\n",
       " 'sporule',\n",
       " 'decalvant',\n",
       " 'mischievousness',\n",
       " 'overpublicity',\n",
       " 'palaeonemertini',\n",
       " 'allegeable',\n",
       " 'fistule',\n",
       " 'ablactate',\n",
       " 'orgiacs',\n",
       " 'plotinism',\n",
       " 'gravidity',\n",
       " 'sphargis',\n",
       " 'limacinidae',\n",
       " 'coffee',\n",
       " 'cardioneurosis',\n",
       " 'glacierist',\n",
       " 'sinoauricular',\n",
       " 'xiphiplastral',\n",
       " 'unpoliced',\n",
       " 'dreamery',\n",
       " 'ceraunia',\n",
       " 'laetic',\n",
       " 'povindah',\n",
       " 'unpenetrated',\n",
       " 'undercanvass',\n",
       " 'recohabitation',\n",
       " 'kidlet',\n",
       " 'syrinx',\n",
       " 'popgunnery',\n",
       " 'freightless',\n",
       " 'ampholyte',\n",
       " 'incumber',\n",
       " 'kaleidophon',\n",
       " 'unsatiated',\n",
       " 'acroblast',\n",
       " 'ghizite',\n",
       " 'slatter',\n",
       " 'dextrose',\n",
       " 'imbecilic',\n",
       " 'metaprotein',\n",
       " 'inframaxillary',\n",
       " 'taintlessness',\n",
       " 'scrofulide',\n",
       " 'bractlet',\n",
       " 'tetranitrate',\n",
       " 'synchronousness',\n",
       " 'disputatiously',\n",
       " 'unsplendid',\n",
       " 'scaphocephalism',\n",
       " 'engrail',\n",
       " 'silential',\n",
       " 'weakling',\n",
       " 'intermodification',\n",
       " 'autobiographist',\n",
       " 'bedown',\n",
       " 'excitability',\n",
       " 'embryonic',\n",
       " 'granularity',\n",
       " 'snapy',\n",
       " 'echidna',\n",
       " 'feudalize',\n",
       " 'inductiveness',\n",
       " 'unyoung',\n",
       " 'consilience',\n",
       " 'lumbocolotomy',\n",
       " 'friction',\n",
       " 'inexhaustedly',\n",
       " 'ischiorrhogic',\n",
       " 'besottedly',\n",
       " 'otology',\n",
       " 'bipalmate',\n",
       " 'lingulated',\n",
       " 'polysensuous',\n",
       " 'arzava',\n",
       " 'romulian',\n",
       " 'ers',\n",
       " 'connately',\n",
       " 'contraindicate',\n",
       " 'stalkingly',\n",
       " 'firemaster',\n",
       " 'paronymic',\n",
       " 'algal',\n",
       " 'umptieth',\n",
       " 'heedless',\n",
       " 'dubs',\n",
       " 'rebelieve',\n",
       " 'frisking',\n",
       " 'earth',\n",
       " 'unconstitutionalism',\n",
       " 'unliberal',\n",
       " 'sterile',\n",
       " 'asternata',\n",
       " 'chalcidian',\n",
       " 'hypoeosinophilia',\n",
       " 'pyrus',\n",
       " 'picturization',\n",
       " 'scrobiculus',\n",
       " 'frozen',\n",
       " 'tippet',\n",
       " 'platycarpous',\n",
       " 'unsurrendered',\n",
       " 'artemis',\n",
       " 'corbie',\n",
       " 'bibliopole',\n",
       " 'perithelium',\n",
       " 'scoliokyposis',\n",
       " 'sulfamine',\n",
       " 'winklehawk',\n",
       " 'blaewort',\n",
       " 'osmometer',\n",
       " 'chiropteran',\n",
       " 'cursorily',\n",
       " 'spearing',\n",
       " 'nonpeltast',\n",
       " 'trinitrocellulose',\n",
       " 'cursorious',\n",
       " 'cit',\n",
       " 'dermatomuscular',\n",
       " 'catechumenically',\n",
       " 'retranscribe',\n",
       " 'imperialistically',\n",
       " 'parorexia',\n",
       " 'stein',\n",
       " 'ignitibility',\n",
       " 'debenture',\n",
       " 'ponderosapine',\n",
       " 'semiperspicuous',\n",
       " 'thready',\n",
       " 'unclehood',\n",
       " 'wagonry',\n",
       " 'piniferous',\n",
       " 'pension',\n",
       " 'overbeetling',\n",
       " 'require',\n",
       " 'matronly',\n",
       " 'stylohyoideus',\n",
       " 'approximately',\n",
       " 'passade',\n",
       " 'unforeseen',\n",
       " 'dacryocyst',\n",
       " 'stillish',\n",
       " 'opisthion',\n",
       " 'unze',\n",
       " 'validness',\n",
       " 'leucocytogenesis',\n",
       " 'shippy',\n",
       " 'terbic',\n",
       " 'unbearing',\n",
       " 'parterre',\n",
       " 'discontentedness',\n",
       " 'conehead',\n",
       " 'prepetition',\n",
       " 'amen',\n",
       " 'shivering',\n",
       " 'myriare',\n",
       " 'peepy',\n",
       " 'crystalliform',\n",
       " 'osteosis',\n",
       " 'beastliness',\n",
       " 'demimetope',\n",
       " 'smotter',\n",
       " 'ditheism',\n",
       " 'oniscus',\n",
       " 'hydra',\n",
       " 'noddle',\n",
       " 'tarantulite',\n",
       " 'stomachy',\n",
       " 'lorgnette',\n",
       " 'tavernous',\n",
       " 'notice',\n",
       " 'pericentric',\n",
       " 'breastpin',\n",
       " 'doitrified',\n",
       " 'stratagematist',\n",
       " 'cronk',\n",
       " 'unserviceable',\n",
       " 'chronologer',\n",
       " 'fierasferoid',\n",
       " 'mistrustful',\n",
       " 'celia',\n",
       " 'hypercathartic',\n",
       " 'ramentiferous',\n",
       " 'pharyngopathy',\n",
       " 'achalasia',\n",
       " 'ruction',\n",
       " 'checker',\n",
       " 'serodermitis',\n",
       " 'semimadman',\n",
       " 'tinder',\n",
       " 'oratorial',\n",
       " 'severization',\n",
       " 'perforce',\n",
       " 'saprolite',\n",
       " 'undevelopable',\n",
       " 'alcoholmeter',\n",
       " 'scrivello',\n",
       " 'jawbreakingly',\n",
       " 'headquarter',\n",
       " 'superproduction',\n",
       " 'sickler',\n",
       " 'stingingly',\n",
       " 'sagination',\n",
       " 'dinornithid',\n",
       " 'escapee',\n",
       " 'hillel',\n",
       " 'tormodont',\n",
       " 'unhabitableness',\n",
       " 'leafleteer',\n",
       " 'actinozoal',\n",
       " 'monovoltine',\n",
       " 'soundheadedness',\n",
       " 'coenaculous',\n",
       " 'ensuingly',\n",
       " 'himation',\n",
       " 'weeness',\n",
       " 'tradal',\n",
       " 'unamusement',\n",
       " 'stereometrical',\n",
       " 'gradational',\n",
       " 'amsonia',\n",
       " 'holostean',\n",
       " 'tortricina',\n",
       " 'upshoot',\n",
       " 'synonymity',\n",
       " 'sinistrality',\n",
       " 'subursine',\n",
       " 'crosa',\n",
       " 'thingumbob',\n",
       " 'disadvance',\n",
       " 'cogitant',\n",
       " 'roka',\n",
       " 'illusor',\n",
       " 'umbilici',\n",
       " 'unsystematizing',\n",
       " 'kjeldahl',\n",
       " 'flimflam',\n",
       " 'instructible',\n",
       " 'deformism',\n",
       " 'carbonigenous',\n",
       " 'republic',\n",
       " 'crunodal',\n",
       " 'oscillatory',\n",
       " 'deneutralization',\n",
       " 'aniente',\n",
       " 'rameous',\n",
       " 'parelectronomy',\n",
       " 'complementally',\n",
       " 'mineralizer',\n",
       " 'profiteer',\n",
       " 'myrialitre',\n",
       " 'ironlike',\n",
       " 'cordage',\n",
       " 'tongueful',\n",
       " 'skywriter',\n",
       " 'prevoyance',\n",
       " 'lordling',\n",
       " 'egueiite',\n",
       " 'pondering',\n",
       " 'chondroblastoma',\n",
       " 'radiata',\n",
       " 'udolphoish',\n",
       " 'hyperconformist',\n",
       " 'chronothermal',\n",
       " 'xylina',\n",
       " 'stipitiform',\n",
       " 'accusive',\n",
       " 'vasoreflex',\n",
       " 'millilambert',\n",
       " 'indeedy',\n",
       " 'nyctalopic',\n",
       " 'obnubilate',\n",
       " 'pauldron',\n",
       " 'pronuclear',\n",
       " 'reacetylation',\n",
       " 'squall',\n",
       " 'appropriator',\n",
       " 'whitfinch',\n",
       " 'zygosaccharomyces',\n",
       " 'irritating',\n",
       " 'aromatites',\n",
       " 'danic',\n",
       " 'biphase',\n",
       " 'counterpaned',\n",
       " 'misplease',\n",
       " 'delawarean',\n",
       " 'how',\n",
       " 'spermaceti',\n",
       " 'acetonylidene',\n",
       " 'unsurnamed',\n",
       " 'chol',\n",
       " 'sexupara',\n",
       " 'proagrarian',\n",
       " 'bosomed',\n",
       " 'classicize',\n",
       " 'glassweed',\n",
       " 'numeral',\n",
       " 'overdiffuseness',\n",
       " 'disintegrative',\n",
       " 'precedent',\n",
       " 'rockweed',\n",
       " 'pentace',\n",
       " 'diferrion',\n",
       " 'nephrorrhaphy',\n",
       " 'pacification',\n",
       " 'investable',\n",
       " 'syringeful',\n",
       " 'candid',\n",
       " 'threefoldness',\n",
       " 'pantacosm',\n",
       " 'squashiness',\n",
       " 'fustiness',\n",
       " 'argilloid',\n",
       " 'nonracial',\n",
       " 'arjun',\n",
       " 'inquilinity',\n",
       " 'territorially',\n",
       " 'dubitably',\n",
       " 'oleo',\n",
       " 'theolatrous',\n",
       " 'petrinist',\n",
       " 'coronitis',\n",
       " 'prancy',\n",
       " 'overwiped',\n",
       " 'monostomatidae',\n",
       " 'huggin',\n",
       " 'lepidopteran',\n",
       " 'grandiloquently',\n",
       " 'peregrinator',\n",
       " 'easeful',\n",
       " 'ceriops',\n",
       " 'cryptodira',\n",
       " 'thrustings',\n",
       " 'unillustrated',\n",
       " 'approve',\n",
       " 'damage',\n",
       " 'trippingly',\n",
       " 'widener',\n",
       " 'doddery',\n",
       " 'isochlor',\n",
       " 'negroism',\n",
       " 'trisubstitution',\n",
       " 'gnomological',\n",
       " 'unfelicitously',\n",
       " 'pseudoglottis',\n",
       " 'classifier',\n",
       " 'curricular',\n",
       " 'doughboy',\n",
       " 'bedrip',\n",
       " 'imbecile',\n",
       " 'mollugo',\n",
       " 'notogaeic',\n",
       " 'pliantly',\n",
       " 'retour',\n",
       " 'assonate',\n",
       " 'shameworthy',\n",
       " 'acanthocephala',\n",
       " 'ishmaelite',\n",
       " 'jowlish',\n",
       " 'lowliness',\n",
       " 'perspirable',\n",
       " 'pygmydom',\n",
       " 'oligochylia',\n",
       " 'encounterer',\n",
       " 'hurt',\n",
       " 'mackinaw',\n",
       " 'epimere',\n",
       " 'logos',\n",
       " 'reversionally',\n",
       " 'rotascope',\n",
       " 'monoammonium',\n",
       " 'perisplenetic',\n",
       " 'scullery',\n",
       " 'lateen',\n",
       " 'moolum',\n",
       " 'nondisjunctive',\n",
       " 'octopod',\n",
       " 'piacularity',\n",
       " 'palatability',\n",
       " 'thread',\n",
       " 'cowskin',\n",
       " 'winghanded',\n",
       " 'neville',\n",
       " 'sposhy',\n",
       " 'semihardy',\n",
       " 'choledochoduodenostomy',\n",
       " 'impermeabilization',\n",
       " 'limax',\n",
       " 'overpoweringly',\n",
       " 'percutaneous',\n",
       " 'communicator',\n",
       " 'scuffed',\n",
       " 'hylodes',\n",
       " 'philodina',\n",
       " 'mudden',\n",
       " 'liny',\n",
       " 'decorationist',\n",
       " 'macrosmatic',\n",
       " 'slate',\n",
       " 'trachean',\n",
       " 'wordsworthian',\n",
       " 'unbeginning',\n",
       " 'funniness',\n",
       " 'overfrighted',\n",
       " 'giantkind',\n",
       " 'lugsail',\n",
       " 'leucoindigotin',\n",
       " 'unprohibited',\n",
       " 'palindromically',\n",
       " 'lesche',\n",
       " 'prearrangement',\n",
       " 'alloxanate',\n",
       " 'tallowish',\n",
       " 'alauda',\n",
       " 'barrack',\n",
       " 'erikite',\n",
       " 'connective',\n",
       " 'buckshot',\n",
       " 'nonarterial',\n",
       " 'nonrevertible',\n",
       " 'introductor',\n",
       " 'kaolinite',\n",
       " 'longtail',\n",
       " 'palaeographically',\n",
       " 'peridiolum',\n",
       " 'wilt',\n",
       " 'disinvagination',\n",
       " 'thalasso',\n",
       " 'theocratic',\n",
       " 'guestless',\n",
       " 'binucleolate',\n",
       " 'sycones',\n",
       " 'coward',\n",
       " 'candlerent',\n",
       " 'novelist',\n",
       " 'bockeret',\n",
       " 'posement',\n",
       " 'urbify',\n",
       " 'brandenburger',\n",
       " 'wanchancy',\n",
       " 'acrostichic',\n",
       " 'isidoid',\n",
       " 'knowledgeable',\n",
       " 'cacomorphosis',\n",
       " 'ugarono',\n",
       " 'groats',\n",
       " 'grieflessness',\n",
       " 'recarriage',\n",
       " 'fibrillation',\n",
       " 'esterize',\n",
       " 'megalaema',\n",
       " 'microgaster',\n",
       " 'tuchunate',\n",
       " 'fantail',\n",
       " 'germigenous',\n",
       " 'alochia',\n",
       " 'wips',\n",
       " 'climbable',\n",
       " 'stonish',\n",
       " 'unextinctness',\n",
       " 'nolleity',\n",
       " 'paleophytology',\n",
       " 'manifestative',\n",
       " 'indiction',\n",
       " 'mixblood',\n",
       " 'vaulted',\n",
       " 'yellowly',\n",
       " 'redaub',\n",
       " 'ponton',\n",
       " 'opusculum',\n",
       " 'pomatum',\n",
       " 'ambry',\n",
       " 'xanthomatosis',\n",
       " 'antipathogen',\n",
       " 'checkbite',\n",
       " 'highball',\n",
       " 'zalambdodonta',\n",
       " 'uncannily',\n",
       " 'hypomeron',\n",
       " 'paralogician',\n",
       " 'squamipinnes',\n",
       " 'biovulate',\n",
       " 'fluidity',\n",
       " 'languageless',\n",
       " 'polytheist',\n",
       " 'entelam',\n",
       " 'shadowiness',\n",
       " 'pumiciform',\n",
       " 'unendorsable',\n",
       " 'synallagmatic',\n",
       " 'adenitis',\n",
       " 'purpurean',\n",
       " 'matsuri',\n",
       " 'dingwall',\n",
       " 'untrill',\n",
       " 'spermatogenesis',\n",
       " 'danagla',\n",
       " 'terrificly',\n",
       " 'fallibleness',\n",
       " 'expiratory',\n",
       " 'edibility',\n",
       " 'theatrize',\n",
       " 'interfoliar',\n",
       " 'vili',\n",
       " 'lubricant',\n",
       " 'curvy',\n",
       " 'autostylic',\n",
       " 'morcote',\n",
       " 'nondispensation',\n",
       " 'necessarily',\n",
       " 'cystoscope',\n",
       " 'tempestuousness',\n",
       " 'hackamore',\n",
       " 'autoinduction',\n",
       " 'bartsia',\n",
       " 'elapid',\n",
       " 'rupture',\n",
       " 'unfeudal',\n",
       " 'orchester',\n",
       " 'antipatriotic',\n",
       " 'irreductible',\n",
       " 'topalgia',\n",
       " 'batterdock',\n",
       " 'overslight',\n",
       " 'thanatographer',\n",
       " 'anthropomantist',\n",
       " 'disject',\n",
       " 'strabismical',\n",
       " 'pavidity',\n",
       " 'tawkee',\n",
       " 'ungrating',\n",
       " 'unengaging',\n",
       " 'taxaspidean',\n",
       " 'overyouthful',\n",
       " 'costicartilage',\n",
       " 'synecdoche',\n",
       " 'irretrievableness',\n",
       " 'ferrugination',\n",
       " 'toit',\n",
       " 'bulldozer',\n",
       " 'crowflower',\n",
       " 'eleventh',\n",
       " 'creedmore',\n",
       " 'resourceful',\n",
       " 'revuist',\n",
       " 'masoola',\n",
       " 'crustacean',\n",
       " 'exopterygotous',\n",
       " 'knotlike',\n",
       " 'noteless',\n",
       " 'pseudograph',\n",
       " 'underbishopric',\n",
       " 'mondayishness',\n",
       " 'arminianize',\n",
       " 'parasynaptist',\n",
       " 'mistify',\n",
       " 'trigonometric',\n",
       " 'unoxygenated',\n",
       " 'herpetologic',\n",
       " 'lute',\n",
       " 'portrayist',\n",
       " 'bisulphate',\n",
       " 'aechmophorus',\n",
       " 'fluster',\n",
       " 'durity',\n",
       " 'melanemic',\n",
       " 'crescentwise',\n",
       " 'pik',\n",
       " 'scrollwise',\n",
       " 'cheetie',\n",
       " 'seladang',\n",
       " 'bort',\n",
       " 'undeceivable',\n",
       " 'villainist',\n",
       " 'protomalal',\n",
       " 'fadmonger',\n",
       " 'ingrowth',\n",
       " 'dodecarchy',\n",
       " 'staatsrat',\n",
       " 'detailism',\n",
       " 'benztrioxazine',\n",
       " 'hollo',\n",
       " 'cirripedial',\n",
       " 'achromotrichia',\n",
       " 'microcolorimetry',\n",
       " 'pastoralist',\n",
       " 'geomorphology',\n",
       " 'patchable',\n",
       " 'crinicultural',\n",
       " 'xyrichthys',\n",
       " 'interpupillary',\n",
       " 'staircase',\n",
       " 'kerygmatic',\n",
       " 'houri',\n",
       " 'antler',\n",
       " 'aaronitic',\n",
       " 'exodic',\n",
       " 'grassnut',\n",
       " 'hamartiologist',\n",
       " 'disabuse',\n",
       " 'foredeserved',\n",
       " 'monocrotism',\n",
       " 'osophy',\n",
       " 'pucherite',\n",
       " 'unplaid',\n",
       " 'unfelony',\n",
       " 'immatured',\n",
       " 'arctogaean',\n",
       " 'unhomogeneous',\n",
       " 'anomy',\n",
       " 'aquinist',\n",
       " 'polack',\n",
       " 'counterrevolution',\n",
       " 'reconnoitre',\n",
       " 'aileen',\n",
       " 'euphausiidae',\n",
       " 'unhumorous',\n",
       " 'nivellate',\n",
       " 'deludingly',\n",
       " 'quiddle',\n",
       " 'cacodemonia',\n",
       " 'coliseum',\n",
       " 'benzoxycamphor',\n",
       " 'calling',\n",
       " 'compotor',\n",
       " 'nurturer',\n",
       " 'undisheartened',\n",
       " 'vintner',\n",
       " 'pinulus',\n",
       " 'campanulous',\n",
       " 'heuristic',\n",
       " 'insuppressibly',\n",
       " 'hypotheria',\n",
       " 'baldmoney',\n",
       " 'copa',\n",
       " 'streptocarpus',\n",
       " 'diacetonuria',\n",
       " 'uphand',\n",
       " 'idioglossia',\n",
       " 'monocentric',\n",
       " 'precelebration',\n",
       " 'potpie',\n",
       " 'skaillie',\n",
       " 'lutidinic',\n",
       " 'axiolitic',\n",
       " 'ankyloglossia',\n",
       " 'preremorse',\n",
       " 'lithograph',\n",
       " 'isonomy',\n",
       " 'antipriestcraft',\n",
       " 'synthermal',\n",
       " 'pisciculture',\n",
       " 'stampage',\n",
       " 'phacopid',\n",
       " 'brugnatellite',\n",
       " 'photoscope',\n",
       " 'pedipalpus',\n",
       " 'mygalid',\n",
       " 'witteboom',\n",
       " 'switched',\n",
       " 'phallaceous',\n",
       " 'imperatorious',\n",
       " 'coappear',\n",
       " 'horme',\n",
       " 'bracted',\n",
       " 'drammer',\n",
       " 'quitter',\n",
       " 'heterolysin',\n",
       " 'hyperbrachycranial',\n",
       " 'spartiate',\n",
       " 'linguistics',\n",
       " 'unanimity',\n",
       " 'by',\n",
       " 'coque',\n",
       " 'subgranular',\n",
       " 'monopodic',\n",
       " 'revelment',\n",
       " 'thalamiflorae',\n",
       " 'mumming',\n",
       " 'metacoelia',\n",
       " 'bemoisten',\n",
       " 'absterge',\n",
       " 'chronological',\n",
       " 'phenolphthalein',\n",
       " 'diaconal',\n",
       " 'heptahydric',\n",
       " 'extradomestic',\n",
       " 'balneation',\n",
       " 'calaber',\n",
       " 'untappable',\n",
       " 'spongiozoa',\n",
       " 'photism',\n",
       " 'nymphish',\n",
       " 'consumptible',\n",
       " 'melampyrum',\n",
       " 'gasometrical',\n",
       " 'zone',\n",
       " 'capacitativly',\n",
       " 'modena',\n",
       " 'plack',\n",
       " 'reim',\n",
       " 'schuss',\n",
       " 'qualm',\n",
       " 'bromocyanidation',\n",
       " 'prorelease',\n",
       " 'lollingite',\n",
       " 'rabbitberry',\n",
       " 'isovalerone',\n",
       " 'granulose',\n",
       " 'undurableness',\n",
       " 'doweress',\n",
       " 'choller',\n",
       " 'misdistribution',\n",
       " 'cheeriness',\n",
       " 'wakonda',\n",
       " 'nannyberry',\n",
       " 'anospinal',\n",
       " 'skaff',\n",
       " 'palebuck',\n",
       " 'odophone',\n",
       " 'polistes',\n",
       " 'sheetwork',\n",
       " 'dantean',\n",
       " 'hairwood',\n",
       " 'noticeability',\n",
       " 'phoniatry',\n",
       " 'clubbing',\n",
       " 'ghostless',\n",
       " 'spavindy',\n",
       " 'torpedoer',\n",
       " 'granite',\n",
       " 'interventional',\n",
       " 'spademan',\n",
       " 'successionally',\n",
       " 'spoilage',\n",
       " 'couchy',\n",
       " 'tricklingly',\n",
       " 'approvingly',\n",
       " 'emplacement',\n",
       " 'endboard',\n",
       " 'bratling',\n",
       " 'oleandrin',\n",
       " 'tanchelmian',\n",
       " 'whitmanize',\n",
       " 'pigwash',\n",
       " 'hippoid',\n",
       " 'dawtet',\n",
       " 'adenologaditis',\n",
       " 'alanine',\n",
       " 'distent',\n",
       " 'salic',\n",
       " 'scripturarian',\n",
       " 'glassware',\n",
       " 'whitmanism',\n",
       " 'copleased',\n",
       " 'furor',\n",
       " 'fucinita',\n",
       " 'figuredly',\n",
       " 'epidymides',\n",
       " 'suffragism',\n",
       " 'carcinosarcomata',\n",
       " 'chrysobalanaceae',\n",
       " 'manners',\n",
       " 'praemolar',\n",
       " 'ratanhia',\n",
       " 'thuggee',\n",
       " 'handfastness',\n",
       " 'lightkeeper',\n",
       " 'embolo',\n",
       " 'recarpet',\n",
       " 'hingeless',\n",
       " 'cinnamoned',\n",
       " 'protranslation',\n",
       " 'slumberously',\n",
       " 'bepity',\n",
       " 'overshine',\n",
       " 'nondelirious',\n",
       " 'sorbonic',\n",
       " 'cerebellifugal',\n",
       " 'surgeonfish',\n",
       " 'glazing',\n",
       " 'petiveria',\n",
       " 'chromatophil',\n",
       " 'occipitothalamic',\n",
       " 'nursekeeper',\n",
       " 'gymnocladus',\n",
       " 'ceriferous',\n",
       " 'chasmophyte',\n",
       " 'wheedling',\n",
       " 'chinol',\n",
       " 'prescind',\n",
       " 'iracundity',\n",
       " 'magnificently',\n",
       " 'extraneously',\n",
       " 'clogdogdo',\n",
       " 'proseminar',\n",
       " 'forefeel',\n",
       " 'aranyaka',\n",
       " 'halichondrine',\n",
       " 'narrowy',\n",
       " 'hylocereus',\n",
       " 'toothpick',\n",
       " 'shriekery',\n",
       " 'deywoman',\n",
       " 'prepayable',\n",
       " 'filelike',\n",
       " 'micropterygoidea',\n",
       " 'prorector',\n",
       " 'dustfall',\n",
       " 'bromous',\n",
       " 'playcraft',\n",
       " 'porphyroblastic',\n",
       " 'boy',\n",
       " 'illegitimation',\n",
       " 'peltation',\n",
       " 'toxotae',\n",
       " 'stewardship',\n",
       " 'phytochemical',\n",
       " 'electrofused',\n",
       " 'erenach',\n",
       " 'diglottic',\n",
       " 'hemicardia',\n",
       " 'breech',\n",
       " 'cetus',\n",
       " 'therolatry',\n",
       " 'deploy',\n",
       " 'lagna',\n",
       " 'sanjakate',\n",
       " 'ablate',\n",
       " 'rectalgia',\n",
       " 'oliva',\n",
       " 'empaistic',\n",
       " 'irresolvable',\n",
       " 'therapeutae',\n",
       " 'conspiration',\n",
       " 'polygroove',\n",
       " 'sheathy',\n",
       " 'awardment',\n",
       " 'comprehendingly',\n",
       " 'iguanodontoidea',\n",
       " 'opinionatedness',\n",
       " 'cydippid',\n",
       " 'shannon',\n",
       " 'wharfinger',\n",
       " 'umbriel',\n",
       " 'spermarium',\n",
       " 'unwarnedly',\n",
       " 'pseudataxic',\n",
       " 'tachygenesis',\n",
       " 'strigilator',\n",
       " 'borghalpenny',\n",
       " 'protaxis',\n",
       " 'eruditional',\n",
       " 'anastalsis',\n",
       " 'nonsaline',\n",
       " 'cryptocephalous',\n",
       " 'bethylidae',\n",
       " 'shoggie',\n",
       " 'locum',\n",
       " 'nondenial',\n",
       " 'puppetlike',\n",
       " 'spilus',\n",
       " 'vigesimal',\n",
       " 'arthropyosis',\n",
       " 'gonidiogenous',\n",
       " 'worldway',\n",
       " 'program',\n",
       " 'gymnosperm',\n",
       " 'beggary',\n",
       " 'bracingly',\n",
       " 'endore',\n",
       " 'harmonizer',\n",
       " 'panak',\n",
       " 'forane',\n",
       " 'colder',\n",
       " 'oviparousness',\n",
       " 'demarcate',\n",
       " 'protectorship',\n",
       " 'bunga',\n",
       " 'manchineel',\n",
       " ...}"
      ]
     },
     "execution_count": 34,
     "metadata": {},
     "output_type": "execute_result"
    }
   ],
   "source": [
    "english_vocab"
   ]
  },
  {
   "cell_type": "code",
   "execution_count": 35,
   "metadata": {},
   "outputs": [
    {
     "name": "stdout",
     "output_type": "stream",
     "text": [
      "the\n",
      "truly\n",
      "puzzle\n",
      "game\n",
      "best\n",
      "and\n",
      "free\n",
      "it\n",
      "kryptic\n",
      "is\n"
     ]
    }
   ],
   "source": [
    "for i in text_vocab:\n",
    "    for j in english_vocab:\n",
    "        if i==j:\n",
    "            print(j)"
   ]
  },
  {
   "cell_type": "code",
   "execution_count": 36,
   "metadata": {},
   "outputs": [
    {
     "ename": "LookupError",
     "evalue": "\n**********************************************************************\n  Resource \u001b[93maveraged_perceptron_tagger\u001b[0m not found.\n  Please use the NLTK Downloader to obtain the resource:\n\n  \u001b[31m>>> import nltk\n  >>> nltk.download('averaged_perceptron_tagger')\n  \u001b[0m\n  Attempted to load \u001b[93mtaggers/averaged_perceptron_tagger/averaged_perceptron_tagger.pickle\u001b[0m\n\n  Searched in:\n    - 'C:\\\\Users\\\\LOGAN/nltk_data'\n    - 'E:\\\\anaconda3\\\\nltk_data'\n    - 'E:\\\\anaconda3\\\\share\\\\nltk_data'\n    - 'E:\\\\anaconda3\\\\lib\\\\nltk_data'\n    - 'C:\\\\Users\\\\LOGAN\\\\AppData\\\\Roaming\\\\nltk_data'\n    - 'C:\\\\nltk_data'\n    - 'D:\\\\nltk_data'\n    - 'E:\\\\nltk_data'\n**********************************************************************\n",
     "output_type": "error",
     "traceback": [
      "\u001b[1;31m---------------------------------------------------------------------------\u001b[0m",
      "\u001b[1;31mLookupError\u001b[0m                               Traceback (most recent call last)",
      "\u001b[1;32m<ipython-input-36-5e84d4abc30b>\u001b[0m in \u001b[0;36m<module>\u001b[1;34m\u001b[0m\n\u001b[0;32m      2\u001b[0m \u001b[0mtest\u001b[0m\u001b[1;33m=\u001b[0m\u001b[1;34m\"the dogs are barkikng outside. \"\u001b[0m\u001b[1;33m\u001b[0m\u001b[1;33m\u001b[0m\u001b[0m\n\u001b[0;32m      3\u001b[0m \u001b[0mword\u001b[0m\u001b[1;33m=\u001b[0m\u001b[0mnltk\u001b[0m\u001b[1;33m.\u001b[0m\u001b[0mword_tokenize\u001b[0m\u001b[1;33m(\u001b[0m\u001b[0mtest\u001b[0m\u001b[1;33m)\u001b[0m\u001b[1;33m\u001b[0m\u001b[1;33m\u001b[0m\u001b[0m\n\u001b[1;32m----> 4\u001b[1;33m \u001b[0mpos_tag\u001b[0m\u001b[1;33m=\u001b[0m\u001b[0mnltk\u001b[0m\u001b[1;33m.\u001b[0m\u001b[0mpos_tag\u001b[0m\u001b[1;33m(\u001b[0m\u001b[0mword\u001b[0m\u001b[1;33m)\u001b[0m\u001b[1;33m\u001b[0m\u001b[1;33m\u001b[0m\u001b[0m\n\u001b[0m\u001b[0;32m      5\u001b[0m \u001b[0mprint\u001b[0m\u001b[1;33m(\u001b[0m\u001b[0mpos_tag\u001b[0m\u001b[1;33m)\u001b[0m\u001b[1;33m\u001b[0m\u001b[1;33m\u001b[0m\u001b[0m\n",
      "\u001b[1;32mE:\\anaconda3\\lib\\site-packages\\nltk\\tag\\__init__.py\u001b[0m in \u001b[0;36mpos_tag\u001b[1;34m(tokens, tagset, lang)\u001b[0m\n\u001b[0;32m    159\u001b[0m     \u001b[1;33m:\u001b[0m\u001b[0mrtype\u001b[0m\u001b[1;33m:\u001b[0m \u001b[0mlist\u001b[0m\u001b[1;33m(\u001b[0m\u001b[0mtuple\u001b[0m\u001b[1;33m(\u001b[0m\u001b[0mstr\u001b[0m\u001b[1;33m,\u001b[0m \u001b[0mstr\u001b[0m\u001b[1;33m)\u001b[0m\u001b[1;33m)\u001b[0m\u001b[1;33m\u001b[0m\u001b[1;33m\u001b[0m\u001b[0m\n\u001b[0;32m    160\u001b[0m     \"\"\"\n\u001b[1;32m--> 161\u001b[1;33m     \u001b[0mtagger\u001b[0m \u001b[1;33m=\u001b[0m \u001b[0m_get_tagger\u001b[0m\u001b[1;33m(\u001b[0m\u001b[0mlang\u001b[0m\u001b[1;33m)\u001b[0m\u001b[1;33m\u001b[0m\u001b[1;33m\u001b[0m\u001b[0m\n\u001b[0m\u001b[0;32m    162\u001b[0m     \u001b[1;32mreturn\u001b[0m \u001b[0m_pos_tag\u001b[0m\u001b[1;33m(\u001b[0m\u001b[0mtokens\u001b[0m\u001b[1;33m,\u001b[0m \u001b[0mtagset\u001b[0m\u001b[1;33m,\u001b[0m \u001b[0mtagger\u001b[0m\u001b[1;33m,\u001b[0m \u001b[0mlang\u001b[0m\u001b[1;33m)\u001b[0m\u001b[1;33m\u001b[0m\u001b[1;33m\u001b[0m\u001b[0m\n\u001b[0;32m    163\u001b[0m \u001b[1;33m\u001b[0m\u001b[0m\n",
      "\u001b[1;32mE:\\anaconda3\\lib\\site-packages\\nltk\\tag\\__init__.py\u001b[0m in \u001b[0;36m_get_tagger\u001b[1;34m(lang)\u001b[0m\n\u001b[0;32m    105\u001b[0m         \u001b[0mtagger\u001b[0m\u001b[1;33m.\u001b[0m\u001b[0mload\u001b[0m\u001b[1;33m(\u001b[0m\u001b[0map_russian_model_loc\u001b[0m\u001b[1;33m)\u001b[0m\u001b[1;33m\u001b[0m\u001b[1;33m\u001b[0m\u001b[0m\n\u001b[0;32m    106\u001b[0m     \u001b[1;32melse\u001b[0m\u001b[1;33m:\u001b[0m\u001b[1;33m\u001b[0m\u001b[1;33m\u001b[0m\u001b[0m\n\u001b[1;32m--> 107\u001b[1;33m         \u001b[0mtagger\u001b[0m \u001b[1;33m=\u001b[0m \u001b[0mPerceptronTagger\u001b[0m\u001b[1;33m(\u001b[0m\u001b[1;33m)\u001b[0m\u001b[1;33m\u001b[0m\u001b[1;33m\u001b[0m\u001b[0m\n\u001b[0m\u001b[0;32m    108\u001b[0m     \u001b[1;32mreturn\u001b[0m \u001b[0mtagger\u001b[0m\u001b[1;33m\u001b[0m\u001b[1;33m\u001b[0m\u001b[0m\n\u001b[0;32m    109\u001b[0m \u001b[1;33m\u001b[0m\u001b[0m\n",
      "\u001b[1;32mE:\\anaconda3\\lib\\site-packages\\nltk\\tag\\perceptron.py\u001b[0m in \u001b[0;36m__init__\u001b[1;34m(self, load)\u001b[0m\n\u001b[0;32m    142\u001b[0m         \u001b[1;32mif\u001b[0m \u001b[0mload\u001b[0m\u001b[1;33m:\u001b[0m\u001b[1;33m\u001b[0m\u001b[1;33m\u001b[0m\u001b[0m\n\u001b[0;32m    143\u001b[0m             AP_MODEL_LOC = 'file:' + str(\n\u001b[1;32m--> 144\u001b[1;33m                 \u001b[0mfind\u001b[0m\u001b[1;33m(\u001b[0m\u001b[1;34m'taggers/averaged_perceptron_tagger/'\u001b[0m \u001b[1;33m+\u001b[0m \u001b[0mPICKLE\u001b[0m\u001b[1;33m)\u001b[0m\u001b[1;33m\u001b[0m\u001b[1;33m\u001b[0m\u001b[0m\n\u001b[0m\u001b[0;32m    145\u001b[0m             )\n\u001b[0;32m    146\u001b[0m             \u001b[0mself\u001b[0m\u001b[1;33m.\u001b[0m\u001b[0mload\u001b[0m\u001b[1;33m(\u001b[0m\u001b[0mAP_MODEL_LOC\u001b[0m\u001b[1;33m)\u001b[0m\u001b[1;33m\u001b[0m\u001b[1;33m\u001b[0m\u001b[0m\n",
      "\u001b[1;32mE:\\anaconda3\\lib\\site-packages\\nltk\\data.py\u001b[0m in \u001b[0;36mfind\u001b[1;34m(resource_name, paths)\u001b[0m\n\u001b[0;32m    697\u001b[0m     \u001b[0msep\u001b[0m \u001b[1;33m=\u001b[0m \u001b[1;34m'*'\u001b[0m \u001b[1;33m*\u001b[0m \u001b[1;36m70\u001b[0m\u001b[1;33m\u001b[0m\u001b[1;33m\u001b[0m\u001b[0m\n\u001b[0;32m    698\u001b[0m     \u001b[0mresource_not_found\u001b[0m \u001b[1;33m=\u001b[0m \u001b[1;34m'\\n%s\\n%s\\n%s\\n'\u001b[0m \u001b[1;33m%\u001b[0m \u001b[1;33m(\u001b[0m\u001b[0msep\u001b[0m\u001b[1;33m,\u001b[0m \u001b[0mmsg\u001b[0m\u001b[1;33m,\u001b[0m \u001b[0msep\u001b[0m\u001b[1;33m)\u001b[0m\u001b[1;33m\u001b[0m\u001b[1;33m\u001b[0m\u001b[0m\n\u001b[1;32m--> 699\u001b[1;33m     \u001b[1;32mraise\u001b[0m \u001b[0mLookupError\u001b[0m\u001b[1;33m(\u001b[0m\u001b[0mresource_not_found\u001b[0m\u001b[1;33m)\u001b[0m\u001b[1;33m\u001b[0m\u001b[1;33m\u001b[0m\u001b[0m\n\u001b[0m\u001b[0;32m    700\u001b[0m \u001b[1;33m\u001b[0m\u001b[0m\n\u001b[0;32m    701\u001b[0m \u001b[1;33m\u001b[0m\u001b[0m\n",
      "\u001b[1;31mLookupError\u001b[0m: \n**********************************************************************\n  Resource \u001b[93maveraged_perceptron_tagger\u001b[0m not found.\n  Please use the NLTK Downloader to obtain the resource:\n\n  \u001b[31m>>> import nltk\n  >>> nltk.download('averaged_perceptron_tagger')\n  \u001b[0m\n  Attempted to load \u001b[93mtaggers/averaged_perceptron_tagger/averaged_perceptron_tagger.pickle\u001b[0m\n\n  Searched in:\n    - 'C:\\\\Users\\\\LOGAN/nltk_data'\n    - 'E:\\\\anaconda3\\\\nltk_data'\n    - 'E:\\\\anaconda3\\\\share\\\\nltk_data'\n    - 'E:\\\\anaconda3\\\\lib\\\\nltk_data'\n    - 'C:\\\\Users\\\\LOGAN\\\\AppData\\\\Roaming\\\\nltk_data'\n    - 'C:\\\\nltk_data'\n    - 'D:\\\\nltk_data'\n    - 'E:\\\\nltk_data'\n**********************************************************************\n"
     ]
    }
   ],
   "source": [
    "import nltk\n",
    "test=\"the dogs are barkikng outside. \"\n",
    "word=nltk.word_tokenize(test)\n",
    "pos_tag=nltk.pos_tag(word)\n",
    "print(pos_tag)"
   ]
  },
  {
   "cell_type": "code",
   "execution_count": null,
   "metadata": {},
   "outputs": [],
   "source": [
    "import nltk\n",
    "nltk.download('averaged_perceptron_tagger')"
   ]
  },
  {
   "cell_type": "code",
   "execution_count": null,
   "metadata": {},
   "outputs": [],
   "source": [
    "import nltk\n",
    "nltk.download('averaged_perceptron_tagger')"
   ]
  },
  {
   "cell_type": "code",
   "execution_count": 37,
   "metadata": {},
   "outputs": [],
   "source": [
    "text= \"इराक के विदेश मंत्री ने अमरीका के उस प्रस्ताव का मजाक उड़ाया है , जिसमें अमरीका ने संयुक्त राष्ट्र के प्रतिबंधों को इराकी नागरिकों के लिए कम हानिकारक बनाने के लिए कहा है ।\""
   ]
  },
  {
   "cell_type": "code",
   "execution_count": 38,
   "metadata": {},
   "outputs": [],
   "source": [
    "from nltk.tag import tnt\n",
    "from nltk.corpus import indian\n"
   ]
  },
  {
   "cell_type": "code",
   "execution_count": 118,
   "metadata": {},
   "outputs": [
    {
     "ename": "AttributeError",
     "evalue": "module 'nltk.tag.tnt' has no attribute 'pos'",
     "output_type": "error",
     "traceback": [
      "\u001b[1;31m---------------------------------------------------------------------------\u001b[0m",
      "\u001b[1;31mAttributeError\u001b[0m                            Traceback (most recent call last)",
      "\u001b[1;32m<ipython-input-118-1022ff96a469>\u001b[0m in \u001b[0;36m<module>\u001b[1;34m\u001b[0m\n\u001b[0;32m      1\u001b[0m \u001b[0mtrain_data\u001b[0m\u001b[1;33m=\u001b[0m\u001b[0mindian\u001b[0m\u001b[1;33m.\u001b[0m\u001b[0mtagged_sents\u001b[0m\u001b[1;33m(\u001b[0m\u001b[1;34m'hindi.pos'\u001b[0m\u001b[1;33m)\u001b[0m\u001b[1;33m\u001b[0m\u001b[1;33m\u001b[0m\u001b[0m\n\u001b[0;32m      2\u001b[0m \u001b[0mtnt_pos_tagger\u001b[0m\u001b[1;33m=\u001b[0m\u001b[0mtnt\u001b[0m\u001b[1;33m.\u001b[0m\u001b[0mTnT\u001b[0m\u001b[1;33m(\u001b[0m\u001b[1;33m)\u001b[0m\u001b[1;33m\u001b[0m\u001b[1;33m\u001b[0m\u001b[0m\n\u001b[1;32m----> 3\u001b[1;33m \u001b[0mtnt\u001b[0m\u001b[1;33m.\u001b[0m\u001b[0mpos\u001b[0m\u001b[1;33m.\u001b[0m\u001b[0mtagger\u001b[0m\u001b[1;33m.\u001b[0m\u001b[0mtrain\u001b[0m\u001b[1;33m(\u001b[0m\u001b[0mtrain_data\u001b[0m\u001b[1;33m)\u001b[0m\u001b[1;33m\u001b[0m\u001b[1;33m\u001b[0m\u001b[0m\n\u001b[0m",
      "\u001b[1;31mAttributeError\u001b[0m: module 'nltk.tag.tnt' has no attribute 'pos'"
     ]
    }
   ],
   "source": [
    "train_data=indian.tagged_sents('hindi.pos')\n",
    "tnt_pos_tagger=tnt.TnT()\n",
    "tnt.pos.tagger.train(train_data)"
   ]
  },
  {
   "cell_type": "code",
   "execution_count": 40,
   "metadata": {},
   "outputs": [
    {
     "name": "stderr",
     "output_type": "stream",
     "text": [
      "[nltk_data] Downloading package indian to\n",
      "[nltk_data]     C:\\Users\\LOGAN\\AppData\\Roaming\\nltk_data...\n",
      "[nltk_data]   Package indian is already up-to-date!\n"
     ]
    },
    {
     "data": {
      "text/plain": [
       "True"
      ]
     },
     "execution_count": 40,
     "metadata": {},
     "output_type": "execute_result"
    }
   ],
   "source": [
    "import nltk\n",
    "nltk.download('indian')\n",
    "  "
   ]
  },
  {
   "cell_type": "code",
   "execution_count": 41,
   "metadata": {},
   "outputs": [],
   "source": [
    "from nltk.tag import tnt\n",
    "from nltk.corpus import indian\n",
    "\n",
    "\n",
    "train_data=indian.tagged_sents('hindi.pos')\n",
    "tnt_pos_tagger=tnt.TnT()\n",
    "tnt_pos_tagger.train(train_data)"
   ]
  },
  {
   "cell_type": "code",
   "execution_count": null,
   "metadata": {},
   "outputs": [],
   "source": []
  },
  {
   "cell_type": "code",
   "execution_count": 42,
   "metadata": {},
   "outputs": [
    {
     "data": {
      "text/plain": [
       "[[('पूर्ण', 'JJ'), ('प्रतिबंध', 'NN'), ('हटाओ', 'VFM'), (':', 'SYM'), ('इराक', 'NNP')], [('संयुक्त', 'NNC'), ('राष्ट्र', 'NN'), ('।', 'SYM')], ...]"
      ]
     },
     "execution_count": 42,
     "metadata": {},
     "output_type": "execute_result"
    }
   ],
   "source": [
    "train_data"
   ]
  },
  {
   "cell_type": "code",
   "execution_count": 43,
   "metadata": {},
   "outputs": [],
   "source": [
    "from nltk.tag import tnt\n",
    "from nltk.corpus import indian\n"
   ]
  },
  {
   "cell_type": "code",
   "execution_count": 44,
   "metadata": {},
   "outputs": [],
   "source": [
    "#text=\"ತಿಳಿವು ಗಿರಿ¿å ಶಿಖರಕ್ಕಿಂತ ತಾನೇ ಎತ್ತರ ಎಂದು ಬೀಗಿತು ಮರ, ತನ್ನ ಶಿರವೇರಿದ ತರುವಿನ ಮೌಢ್ಯಕೆ ನೊಂದು ನುಡಿಯಿತು ಗಿರಿ ನೀನೆಂದೂ ನಶ್ವರ!\"\n",
    "text=\"ఈ దాడి గురించి దేశవ్యాప్తంగా ఆగ్రహావేశాలు వ్యక్తం అవుతున్నాయి. 'ఆర్టికల్ 370' గురించి మరోసారి తీవ్రమైన చర్చ జరుగుతోంది.\"\n",
    "train_data=indian.tagged_sents('telugu.pos')\n",
    "tnt_pos_tagger=tnt.TnT()\n",
    "tnt_pos_tagger.train(train_data)"
   ]
  },
  {
   "cell_type": "code",
   "execution_count": 45,
   "metadata": {},
   "outputs": [
    {
     "data": {
      "text/plain": [
       "[[('4', 'QFNUM'), ('.', 'SYM')], [('ఆడిట్', 'NN'), ('నిర్వహణ', 'NN'), ('ఆడిటర్', 'NN'), ('ఒక', 'QFNUM'), ('కొత్త', 'JJ'), ('ఆడిట్', 'NN'), ('చేపట్టే', 'VRB'), ('ముందు', 'PREP'), ('సక్రమ', 'JJ'), ('పద్ధతి', 'NN'), ('లో', 'PREP'), ('కార్య', 'JJ'), ('ప్రణాళికను', 'NN'), ('రూపొందించాలి', 'VFM'), ('.', 'SYM')], ...]"
      ]
     },
     "execution_count": 45,
     "metadata": {},
     "output_type": "execute_result"
    }
   ],
   "source": [
    "train_data"
   ]
  },
  {
   "cell_type": "raw",
   "metadata": {},
   "source": []
  },
  {
   "cell_type": "code",
   "execution_count": 46,
   "metadata": {},
   "outputs": [],
   "source": [
    "docA=\"The cat sat on my face\"\n",
    "docB=\"The dog sat on my bed\"\n"
   ]
  },
  {
   "cell_type": "code",
   "execution_count": 47,
   "metadata": {},
   "outputs": [],
   "source": [
    "bowA=docA.split(\" \")\n",
    "bowB=docB.split(\" \")\n"
   ]
  },
  {
   "cell_type": "code",
   "execution_count": 48,
   "metadata": {},
   "outputs": [
    {
     "data": {
      "text/plain": [
       "['The', 'dog', 'sat', 'on', 'my', 'bed']"
      ]
     },
     "execution_count": 48,
     "metadata": {},
     "output_type": "execute_result"
    }
   ],
   "source": [
    "bowB"
   ]
  },
  {
   "cell_type": "code",
   "execution_count": 49,
   "metadata": {},
   "outputs": [],
   "source": [
    "wordSet=set(bowA).union(set(bowB))"
   ]
  },
  {
   "cell_type": "code",
   "execution_count": 50,
   "metadata": {},
   "outputs": [
    {
     "data": {
      "text/plain": [
       "{'The', 'bed', 'cat', 'dog', 'face', 'my', 'on', 'sat'}"
      ]
     },
     "execution_count": 50,
     "metadata": {},
     "output_type": "execute_result"
    }
   ],
   "source": [
    "wordSet"
   ]
  },
  {
   "cell_type": "code",
   "execution_count": 51,
   "metadata": {},
   "outputs": [],
   "source": [
    "wordDictA=dict.fromkeys(wordSet,0)\n",
    "wordDictB=dict.fromkeys(wordSet,0)"
   ]
  },
  {
   "cell_type": "code",
   "execution_count": 52,
   "metadata": {},
   "outputs": [
    {
     "data": {
      "text/plain": [
       "{'dog': 0, 'on': 0, 'my': 0, 'sat': 0, 'cat': 0, 'bed': 0, 'face': 0, 'The': 0}"
      ]
     },
     "execution_count": 52,
     "metadata": {},
     "output_type": "execute_result"
    }
   ],
   "source": [
    "wordDictA"
   ]
  },
  {
   "cell_type": "code",
   "execution_count": 53,
   "metadata": {},
   "outputs": [
    {
     "data": {
      "text/plain": [
       "{'dog': 0, 'on': 0, 'my': 0, 'sat': 0, 'cat': 0, 'bed': 0, 'face': 0, 'The': 0}"
      ]
     },
     "execution_count": 53,
     "metadata": {},
     "output_type": "execute_result"
    }
   ],
   "source": [
    "wordDictB"
   ]
  },
  {
   "cell_type": "code",
   "execution_count": 54,
   "metadata": {},
   "outputs": [],
   "source": [
    "for word in bowA:\n",
    "    wordDictA[word]+=1\n",
    "for word in bowB:\n",
    "    wordDictB[word]+=1\n",
    "    "
   ]
  },
  {
   "cell_type": "code",
   "execution_count": 55,
   "metadata": {},
   "outputs": [
    {
     "data": {
      "text/plain": [
       "{'dog': 0, 'on': 1, 'my': 1, 'sat': 1, 'cat': 1, 'bed': 0, 'face': 1, 'The': 1}"
      ]
     },
     "execution_count": 55,
     "metadata": {},
     "output_type": "execute_result"
    }
   ],
   "source": [
    "wordDictA\n"
   ]
  },
  {
   "cell_type": "code",
   "execution_count": 56,
   "metadata": {},
   "outputs": [
    {
     "data": {
      "text/html": [
       "<div>\n",
       "<style scoped>\n",
       "    .dataframe tbody tr th:only-of-type {\n",
       "        vertical-align: middle;\n",
       "    }\n",
       "\n",
       "    .dataframe tbody tr th {\n",
       "        vertical-align: top;\n",
       "    }\n",
       "\n",
       "    .dataframe thead th {\n",
       "        text-align: right;\n",
       "    }\n",
       "</style>\n",
       "<table border=\"1\" class=\"dataframe\">\n",
       "  <thead>\n",
       "    <tr style=\"text-align: right;\">\n",
       "      <th></th>\n",
       "      <th>The</th>\n",
       "      <th>bed</th>\n",
       "      <th>cat</th>\n",
       "      <th>dog</th>\n",
       "      <th>face</th>\n",
       "      <th>my</th>\n",
       "      <th>on</th>\n",
       "      <th>sat</th>\n",
       "    </tr>\n",
       "  </thead>\n",
       "  <tbody>\n",
       "    <tr>\n",
       "      <th>0</th>\n",
       "      <td>1</td>\n",
       "      <td>0</td>\n",
       "      <td>1</td>\n",
       "      <td>0</td>\n",
       "      <td>1</td>\n",
       "      <td>1</td>\n",
       "      <td>1</td>\n",
       "      <td>1</td>\n",
       "    </tr>\n",
       "    <tr>\n",
       "      <th>1</th>\n",
       "      <td>1</td>\n",
       "      <td>1</td>\n",
       "      <td>0</td>\n",
       "      <td>1</td>\n",
       "      <td>0</td>\n",
       "      <td>1</td>\n",
       "      <td>1</td>\n",
       "      <td>1</td>\n",
       "    </tr>\n",
       "  </tbody>\n",
       "</table>\n",
       "</div>"
      ],
      "text/plain": [
       "   The  bed  cat  dog  face  my  on  sat\n",
       "0    1    0    1    0     1   1   1    1\n",
       "1    1    1    0    1     0   1   1    1"
      ]
     },
     "execution_count": 56,
     "metadata": {},
     "output_type": "execute_result"
    }
   ],
   "source": [
    "import pandas as pd\n",
    "pd.DataFrame([wordDictA,wordDictB])"
   ]
  },
  {
   "cell_type": "code",
   "execution_count": 57,
   "metadata": {},
   "outputs": [],
   "source": [
    "def computeTF(wordDict,bow):\n",
    "    tfDict={ }\n",
    "    bowcount=len(bow)\n",
    "    for word,count in wordDict.items():\n",
    "        tfDict[word]=count/float(bowcount)\n",
    "    return tfDict\n"
   ]
  },
  {
   "cell_type": "code",
   "execution_count": 58,
   "metadata": {},
   "outputs": [],
   "source": [
    "tfBowA=computeTF(wordDictA,bowA)\n",
    "tfBowB=computeTF(wordDictB,bowB)\n"
   ]
  },
  {
   "cell_type": "code",
   "execution_count": 59,
   "metadata": {},
   "outputs": [
    {
     "data": {
      "text/plain": [
       "{'dog': 0.0,\n",
       " 'on': 0.16666666666666666,\n",
       " 'my': 0.16666666666666666,\n",
       " 'sat': 0.16666666666666666,\n",
       " 'cat': 0.16666666666666666,\n",
       " 'bed': 0.0,\n",
       " 'face': 0.16666666666666666,\n",
       " 'The': 0.16666666666666666}"
      ]
     },
     "execution_count": 59,
     "metadata": {},
     "output_type": "execute_result"
    }
   ],
   "source": [
    "tfBowA"
   ]
  },
  {
   "cell_type": "raw",
   "metadata": {},
   "source": [
    "tfBowB"
   ]
  },
  {
   "cell_type": "code",
   "execution_count": 60,
   "metadata": {},
   "outputs": [],
   "source": [
    "def computeIDF(docList):\n",
    "    import  math\n",
    "    idfdict={}\n",
    "    N=len(docList)\n",
    "    \n",
    "    idfDict=dict.fromkeys(docList[0].keys(),0)\n",
    "    for doc in docList:\n",
    "        for word, val in doc.items():\n",
    "            if val>0:\n",
    "                idfDict[word]+=1\n",
    "    for word, val in idfDict.items():\n",
    "        idfDict[word]=math.log10(N/float(val))\n",
    "    return idfDict\n"
   ]
  },
  {
   "cell_type": "code",
   "execution_count": 61,
   "metadata": {},
   "outputs": [
    {
     "data": {
      "text/plain": [
       "{'dog': 0.3010299956639812,\n",
       " 'on': 0.0,\n",
       " 'my': 0.0,\n",
       " 'sat': 0.0,\n",
       " 'cat': 0.3010299956639812,\n",
       " 'bed': 0.3010299956639812,\n",
       " 'face': 0.3010299956639812,\n",
       " 'The': 0.0}"
      ]
     },
     "execution_count": 61,
     "metadata": {},
     "output_type": "execute_result"
    }
   ],
   "source": [
    "idfs=computeIDF([wordDictA,wordDictB])\n",
    "idfs"
   ]
  },
  {
   "cell_type": "code",
   "execution_count": 62,
   "metadata": {},
   "outputs": [],
   "source": [
    "def computeTFIDF(tfBow,idfs):\n",
    "    tfidf={}\n",
    "    for word,val in tfBow.items():\n",
    "        tfidf[word]=val*idfs[word]\n",
    "    return tfidf"
   ]
  },
  {
   "cell_type": "code",
   "execution_count": 63,
   "metadata": {},
   "outputs": [],
   "source": [
    "tfidfBowA=computeTFIDF(tfBowA,idfs)\n",
    "tfidfBowB=computeTFIDF(tfBowB,idfs)"
   ]
  },
  {
   "cell_type": "code",
   "execution_count": 64,
   "metadata": {},
   "outputs": [
    {
     "data": {
      "text/plain": [
       "{'dog': 0.0,\n",
       " 'on': 0.0,\n",
       " 'my': 0.0,\n",
       " 'sat': 0.0,\n",
       " 'cat': 0.050171665943996864,\n",
       " 'bed': 0.0,\n",
       " 'face': 0.050171665943996864,\n",
       " 'The': 0.0}"
      ]
     },
     "execution_count": 64,
     "metadata": {},
     "output_type": "execute_result"
    }
   ],
   "source": [
    "tfidfBowA"
   ]
  },
  {
   "cell_type": "code",
   "execution_count": 65,
   "metadata": {},
   "outputs": [
    {
     "data": {
      "text/plain": [
       "{'dog': 0.050171665943996864,\n",
       " 'on': 0.0,\n",
       " 'my': 0.0,\n",
       " 'sat': 0.0,\n",
       " 'cat': 0.0,\n",
       " 'bed': 0.050171665943996864,\n",
       " 'face': 0.0,\n",
       " 'The': 0.0}"
      ]
     },
     "execution_count": 65,
     "metadata": {},
     "output_type": "execute_result"
    }
   ],
   "source": [
    "tfidfBowB"
   ]
  },
  {
   "cell_type": "code",
   "execution_count": 66,
   "metadata": {},
   "outputs": [
    {
     "data": {
      "text/html": [
       "<div>\n",
       "<style scoped>\n",
       "    .dataframe tbody tr th:only-of-type {\n",
       "        vertical-align: middle;\n",
       "    }\n",
       "\n",
       "    .dataframe tbody tr th {\n",
       "        vertical-align: top;\n",
       "    }\n",
       "\n",
       "    .dataframe thead th {\n",
       "        text-align: right;\n",
       "    }\n",
       "</style>\n",
       "<table border=\"1\" class=\"dataframe\">\n",
       "  <thead>\n",
       "    <tr style=\"text-align: right;\">\n",
       "      <th></th>\n",
       "      <th>The</th>\n",
       "      <th>bed</th>\n",
       "      <th>cat</th>\n",
       "      <th>dog</th>\n",
       "      <th>face</th>\n",
       "      <th>my</th>\n",
       "      <th>on</th>\n",
       "      <th>sat</th>\n",
       "    </tr>\n",
       "  </thead>\n",
       "  <tbody>\n",
       "    <tr>\n",
       "      <th>0</th>\n",
       "      <td>0.0</td>\n",
       "      <td>0.000000</td>\n",
       "      <td>0.050172</td>\n",
       "      <td>0.000000</td>\n",
       "      <td>0.050172</td>\n",
       "      <td>0.0</td>\n",
       "      <td>0.0</td>\n",
       "      <td>0.0</td>\n",
       "    </tr>\n",
       "    <tr>\n",
       "      <th>1</th>\n",
       "      <td>0.0</td>\n",
       "      <td>0.050172</td>\n",
       "      <td>0.000000</td>\n",
       "      <td>0.050172</td>\n",
       "      <td>0.000000</td>\n",
       "      <td>0.0</td>\n",
       "      <td>0.0</td>\n",
       "      <td>0.0</td>\n",
       "    </tr>\n",
       "  </tbody>\n",
       "</table>\n",
       "</div>"
      ],
      "text/plain": [
       "   The       bed       cat       dog      face   my   on  sat\n",
       "0  0.0  0.000000  0.050172  0.000000  0.050172  0.0  0.0  0.0\n",
       "1  0.0  0.050172  0.000000  0.050172  0.000000  0.0  0.0  0.0"
      ]
     },
     "execution_count": 66,
     "metadata": {},
     "output_type": "execute_result"
    }
   ],
   "source": [
    "import pandas as pd\n",
    "pd.DataFrame([tfidfBowA,tfidfBowB])"
   ]
  },
  {
   "cell_type": "code",
   "execution_count": 67,
   "metadata": {},
   "outputs": [],
   "source": [
    "from sklearn.feature_extraction.text import TfidfVectorizer\n"
   ]
  },
  {
   "cell_type": "code",
   "execution_count": 68,
   "metadata": {},
   "outputs": [],
   "source": [
    "docA=\"The car is driven on the road\"\n",
    "docB=\"The truck is driven on the highway\"\n"
   ]
  },
  {
   "cell_type": "code",
   "execution_count": 69,
   "metadata": {},
   "outputs": [],
   "source": [
    "tfidf=TfidfVectorizer()"
   ]
  },
  {
   "cell_type": "code",
   "execution_count": 70,
   "metadata": {},
   "outputs": [],
   "source": [
    "response=tfidf.fit_transform([docA,docB])"
   ]
  },
  {
   "cell_type": "code",
   "execution_count": 71,
   "metadata": {},
   "outputs": [
    {
     "name": "stdout",
     "output_type": "stream",
     "text": [
      "the - 0.6043795515372431\n",
      "car - 0.42471718586982765\n",
      "is - 0.30218977576862155\n",
      "driven - 0.30218977576862155\n",
      "on - 0.30218977576862155\n",
      "road - 0.42471718586982765\n",
      "the - 0.6043795515372431\n",
      "is - 0.30218977576862155\n",
      "driven - 0.30218977576862155\n",
      "on - 0.30218977576862155\n",
      "truck - 0.0\n",
      "highway - 0.0\n"
     ]
    }
   ],
   "source": [
    "feature_names=tfidf.get_feature_names()\n",
    "for col in response.nonzero()[1]:\n",
    "    print(feature_names[col],'-',response[0,col])"
   ]
  },
  {
   "cell_type": "code",
   "execution_count": 72,
   "metadata": {},
   "outputs": [
    {
     "name": "stdout",
     "output_type": "stream",
     "text": [
      "5574\n"
     ]
    }
   ],
   "source": [
    "message=[line.rstrip() for line in open('SMSSpamCollection')]\n",
    "print(len(message))"
   ]
  },
  {
   "cell_type": "code",
   "execution_count": 73,
   "metadata": {},
   "outputs": [
    {
     "name": "stdout",
     "output_type": "stream",
     "text": [
      "0 ham\tGo until jurong point, crazy.. Available only in bugis n great world la e buffet... Cine there got amore wat...\n",
      "\n",
      "\n",
      "1 ham\tOk lar... Joking wif u oni...\n",
      "\n",
      "\n",
      "2 spam\tFree entry in 2 a wkly comp to win FA Cup final tkts 21st May 2005. Text FA to 87121 to receive entry question(std txt rate)T&C's apply 08452810075over18's\n",
      "\n",
      "\n",
      "3 ham\tU dun say so early hor... U c already then say...\n",
      "\n",
      "\n",
      "4 ham\tNah I don't think he goes to usf, he lives around here though\n",
      "\n",
      "\n",
      "5 spam\tFreeMsg Hey there darling it's been 3 week's now and no word back! I'd like some fun you up for it still? Tb ok! XxX std chgs to send, Â£1.50 to rcv\n",
      "\n",
      "\n",
      "6 ham\tEven my brother is not like to speak with me. They treat me like aids patent.\n",
      "\n",
      "\n",
      "7 ham\tAs per your request 'Melle Melle (Oru Minnaminunginte Nurungu Vettam)' has been set as your callertune for all Callers. Press *9 to copy your friends Callertune\n",
      "\n",
      "\n",
      "8 spam\tWINNER!! As a valued network customer you have been selected to receivea Â£900 prize reward! To claim call 09061701461. Claim code KL341. Valid 12 hours only.\n",
      "\n",
      "\n",
      "9 spam\tHad your mobile 11 months or more? U R entitled to Update to the latest colour mobiles with camera for Free! Call The Mobile Update Co FREE on 08002986030\n",
      "\n",
      "\n"
     ]
    }
   ],
   "source": [
    "for message_no,message in enumerate(message[:10]):\n",
    "    print(message_no,message)\n",
    "    print('\\n')"
   ]
  },
  {
   "cell_type": "code",
   "execution_count": 74,
   "metadata": {},
   "outputs": [],
   "source": [
    "import pandas as pd\n"
   ]
  },
  {
   "cell_type": "code",
   "execution_count": 75,
   "metadata": {},
   "outputs": [],
   "source": [
    "messages=pd.read_csv('SMSSpamCollection',names=['label','message'],sep=\"\\t\")"
   ]
  },
  {
   "cell_type": "code",
   "execution_count": 76,
   "metadata": {},
   "outputs": [
    {
     "data": {
      "text/html": [
       "<div>\n",
       "<style scoped>\n",
       "    .dataframe tbody tr th:only-of-type {\n",
       "        vertical-align: middle;\n",
       "    }\n",
       "\n",
       "    .dataframe tbody tr th {\n",
       "        vertical-align: top;\n",
       "    }\n",
       "\n",
       "    .dataframe thead th {\n",
       "        text-align: right;\n",
       "    }\n",
       "</style>\n",
       "<table border=\"1\" class=\"dataframe\">\n",
       "  <thead>\n",
       "    <tr style=\"text-align: right;\">\n",
       "      <th></th>\n",
       "      <th>label</th>\n",
       "      <th>message</th>\n",
       "    </tr>\n",
       "  </thead>\n",
       "  <tbody>\n",
       "    <tr>\n",
       "      <th>0</th>\n",
       "      <td>ham</td>\n",
       "      <td>Go until jurong point, crazy.. Available only ...</td>\n",
       "    </tr>\n",
       "    <tr>\n",
       "      <th>1</th>\n",
       "      <td>ham</td>\n",
       "      <td>Ok lar... Joking wif u oni...</td>\n",
       "    </tr>\n",
       "    <tr>\n",
       "      <th>2</th>\n",
       "      <td>spam</td>\n",
       "      <td>Free entry in 2 a wkly comp to win FA Cup fina...</td>\n",
       "    </tr>\n",
       "    <tr>\n",
       "      <th>3</th>\n",
       "      <td>ham</td>\n",
       "      <td>U dun say so early hor... U c already then say...</td>\n",
       "    </tr>\n",
       "    <tr>\n",
       "      <th>4</th>\n",
       "      <td>ham</td>\n",
       "      <td>Nah I don't think he goes to usf, he lives aro...</td>\n",
       "    </tr>\n",
       "  </tbody>\n",
       "</table>\n",
       "</div>"
      ],
      "text/plain": [
       "  label                                            message\n",
       "0   ham  Go until jurong point, crazy.. Available only ...\n",
       "1   ham                      Ok lar... Joking wif u oni...\n",
       "2  spam  Free entry in 2 a wkly comp to win FA Cup fina...\n",
       "3   ham  U dun say so early hor... U c already then say...\n",
       "4   ham  Nah I don't think he goes to usf, he lives aro..."
      ]
     },
     "execution_count": 76,
     "metadata": {},
     "output_type": "execute_result"
    }
   ],
   "source": [
    "messages.head()"
   ]
  },
  {
   "cell_type": "code",
   "execution_count": 77,
   "metadata": {},
   "outputs": [
    {
     "data": {
      "text/html": [
       "<div>\n",
       "<style scoped>\n",
       "    .dataframe tbody tr th:only-of-type {\n",
       "        vertical-align: middle;\n",
       "    }\n",
       "\n",
       "    .dataframe tbody tr th {\n",
       "        vertical-align: top;\n",
       "    }\n",
       "\n",
       "    .dataframe thead th {\n",
       "        text-align: right;\n",
       "    }\n",
       "</style>\n",
       "<table border=\"1\" class=\"dataframe\">\n",
       "  <thead>\n",
       "    <tr style=\"text-align: right;\">\n",
       "      <th></th>\n",
       "      <th>label</th>\n",
       "      <th>message</th>\n",
       "    </tr>\n",
       "  </thead>\n",
       "  <tbody>\n",
       "    <tr>\n",
       "      <th>count</th>\n",
       "      <td>5572</td>\n",
       "      <td>5572</td>\n",
       "    </tr>\n",
       "    <tr>\n",
       "      <th>unique</th>\n",
       "      <td>2</td>\n",
       "      <td>5169</td>\n",
       "    </tr>\n",
       "    <tr>\n",
       "      <th>top</th>\n",
       "      <td>ham</td>\n",
       "      <td>Sorry, I'll call later</td>\n",
       "    </tr>\n",
       "    <tr>\n",
       "      <th>freq</th>\n",
       "      <td>4825</td>\n",
       "      <td>30</td>\n",
       "    </tr>\n",
       "  </tbody>\n",
       "</table>\n",
       "</div>"
      ],
      "text/plain": [
       "       label                 message\n",
       "count   5572                    5572\n",
       "unique     2                    5169\n",
       "top      ham  Sorry, I'll call later\n",
       "freq    4825                      30"
      ]
     },
     "execution_count": 77,
     "metadata": {},
     "output_type": "execute_result"
    }
   ],
   "source": [
    "messages.describe()"
   ]
  },
  {
   "cell_type": "code",
   "execution_count": 78,
   "metadata": {},
   "outputs": [
    {
     "data": {
      "text/html": [
       "<div>\n",
       "<style scoped>\n",
       "    .dataframe tbody tr th:only-of-type {\n",
       "        vertical-align: middle;\n",
       "    }\n",
       "\n",
       "    .dataframe tbody tr th {\n",
       "        vertical-align: top;\n",
       "    }\n",
       "\n",
       "    .dataframe thead tr th {\n",
       "        text-align: left;\n",
       "    }\n",
       "\n",
       "    .dataframe thead tr:last-of-type th {\n",
       "        text-align: right;\n",
       "    }\n",
       "</style>\n",
       "<table border=\"1\" class=\"dataframe\">\n",
       "  <thead>\n",
       "    <tr>\n",
       "      <th></th>\n",
       "      <th colspan=\"4\" halign=\"left\">message</th>\n",
       "    </tr>\n",
       "    <tr>\n",
       "      <th></th>\n",
       "      <th>count</th>\n",
       "      <th>unique</th>\n",
       "      <th>top</th>\n",
       "      <th>freq</th>\n",
       "    </tr>\n",
       "    <tr>\n",
       "      <th>label</th>\n",
       "      <th></th>\n",
       "      <th></th>\n",
       "      <th></th>\n",
       "      <th></th>\n",
       "    </tr>\n",
       "  </thead>\n",
       "  <tbody>\n",
       "    <tr>\n",
       "      <th>ham</th>\n",
       "      <td>4825</td>\n",
       "      <td>4516</td>\n",
       "      <td>Sorry, I'll call later</td>\n",
       "      <td>30</td>\n",
       "    </tr>\n",
       "    <tr>\n",
       "      <th>spam</th>\n",
       "      <td>747</td>\n",
       "      <td>653</td>\n",
       "      <td>Please call our customer service representativ...</td>\n",
       "      <td>4</td>\n",
       "    </tr>\n",
       "  </tbody>\n",
       "</table>\n",
       "</div>"
      ],
      "text/plain": [
       "      message                                                               \n",
       "        count unique                                                top freq\n",
       "label                                                                       \n",
       "ham      4825   4516                             Sorry, I'll call later   30\n",
       "spam      747    653  Please call our customer service representativ...    4"
      ]
     },
     "execution_count": 78,
     "metadata": {},
     "output_type": "execute_result"
    }
   ],
   "source": [
    "messages.groupby('label').describe()"
   ]
  },
  {
   "cell_type": "code",
   "execution_count": 79,
   "metadata": {},
   "outputs": [
    {
     "data": {
      "text/html": [
       "<div>\n",
       "<style scoped>\n",
       "    .dataframe tbody tr th:only-of-type {\n",
       "        vertical-align: middle;\n",
       "    }\n",
       "\n",
       "    .dataframe tbody tr th {\n",
       "        vertical-align: top;\n",
       "    }\n",
       "\n",
       "    .dataframe thead th {\n",
       "        text-align: right;\n",
       "    }\n",
       "</style>\n",
       "<table border=\"1\" class=\"dataframe\">\n",
       "  <thead>\n",
       "    <tr style=\"text-align: right;\">\n",
       "      <th></th>\n",
       "      <th>label</th>\n",
       "      <th>message</th>\n",
       "      <th>length</th>\n",
       "    </tr>\n",
       "  </thead>\n",
       "  <tbody>\n",
       "    <tr>\n",
       "      <th>0</th>\n",
       "      <td>ham</td>\n",
       "      <td>Go until jurong point, crazy.. Available only ...</td>\n",
       "      <td>111</td>\n",
       "    </tr>\n",
       "    <tr>\n",
       "      <th>1</th>\n",
       "      <td>ham</td>\n",
       "      <td>Ok lar... Joking wif u oni...</td>\n",
       "      <td>29</td>\n",
       "    </tr>\n",
       "    <tr>\n",
       "      <th>2</th>\n",
       "      <td>spam</td>\n",
       "      <td>Free entry in 2 a wkly comp to win FA Cup fina...</td>\n",
       "      <td>155</td>\n",
       "    </tr>\n",
       "    <tr>\n",
       "      <th>3</th>\n",
       "      <td>ham</td>\n",
       "      <td>U dun say so early hor... U c already then say...</td>\n",
       "      <td>49</td>\n",
       "    </tr>\n",
       "    <tr>\n",
       "      <th>4</th>\n",
       "      <td>ham</td>\n",
       "      <td>Nah I don't think he goes to usf, he lives aro...</td>\n",
       "      <td>61</td>\n",
       "    </tr>\n",
       "  </tbody>\n",
       "</table>\n",
       "</div>"
      ],
      "text/plain": [
       "  label                                            message  length\n",
       "0   ham  Go until jurong point, crazy.. Available only ...     111\n",
       "1   ham                      Ok lar... Joking wif u oni...      29\n",
       "2  spam  Free entry in 2 a wkly comp to win FA Cup fina...     155\n",
       "3   ham  U dun say so early hor... U c already then say...      49\n",
       "4   ham  Nah I don't think he goes to usf, he lives aro...      61"
      ]
     },
     "execution_count": 79,
     "metadata": {},
     "output_type": "execute_result"
    }
   ],
   "source": [
    "messages['length']= messages['message'].str.len()\n",
    "messages.head()"
   ]
  },
  {
   "cell_type": "code",
   "execution_count": 80,
   "metadata": {},
   "outputs": [
    {
     "data": {
      "text/html": [
       "<div>\n",
       "<style scoped>\n",
       "    .dataframe tbody tr th:only-of-type {\n",
       "        vertical-align: middle;\n",
       "    }\n",
       "\n",
       "    .dataframe tbody tr th {\n",
       "        vertical-align: top;\n",
       "    }\n",
       "\n",
       "    .dataframe thead th {\n",
       "        text-align: right;\n",
       "    }\n",
       "</style>\n",
       "<table border=\"1\" class=\"dataframe\">\n",
       "  <thead>\n",
       "    <tr style=\"text-align: right;\">\n",
       "      <th></th>\n",
       "      <th>label</th>\n",
       "      <th>message</th>\n",
       "      <th>length</th>\n",
       "    </tr>\n",
       "  </thead>\n",
       "  <tbody>\n",
       "    <tr>\n",
       "      <th>0</th>\n",
       "      <td>ham</td>\n",
       "      <td>Go until jurong point, crazy.. Available only ...</td>\n",
       "      <td>111</td>\n",
       "    </tr>\n",
       "    <tr>\n",
       "      <th>1</th>\n",
       "      <td>ham</td>\n",
       "      <td>Ok lar... Joking wif u oni...</td>\n",
       "      <td>29</td>\n",
       "    </tr>\n",
       "    <tr>\n",
       "      <th>2</th>\n",
       "      <td>spam</td>\n",
       "      <td>Free entry in 2 a wkly comp to win FA Cup fina...</td>\n",
       "      <td>155</td>\n",
       "    </tr>\n",
       "    <tr>\n",
       "      <th>3</th>\n",
       "      <td>ham</td>\n",
       "      <td>U dun say so early hor... U c already then say...</td>\n",
       "      <td>49</td>\n",
       "    </tr>\n",
       "    <tr>\n",
       "      <th>4</th>\n",
       "      <td>ham</td>\n",
       "      <td>Nah I don't think he goes to usf, he lives aro...</td>\n",
       "      <td>61</td>\n",
       "    </tr>\n",
       "    <tr>\n",
       "      <th>5</th>\n",
       "      <td>spam</td>\n",
       "      <td>FreeMsg Hey there darling it's been 3 week's n...</td>\n",
       "      <td>147</td>\n",
       "    </tr>\n",
       "    <tr>\n",
       "      <th>6</th>\n",
       "      <td>ham</td>\n",
       "      <td>Even my brother is not like to speak with me. ...</td>\n",
       "      <td>77</td>\n",
       "    </tr>\n",
       "    <tr>\n",
       "      <th>7</th>\n",
       "      <td>ham</td>\n",
       "      <td>As per your request 'Melle Melle (Oru Minnamin...</td>\n",
       "      <td>160</td>\n",
       "    </tr>\n",
       "    <tr>\n",
       "      <th>8</th>\n",
       "      <td>spam</td>\n",
       "      <td>WINNER!! As a valued network customer you have...</td>\n",
       "      <td>157</td>\n",
       "    </tr>\n",
       "    <tr>\n",
       "      <th>9</th>\n",
       "      <td>spam</td>\n",
       "      <td>Had your mobile 11 months or more? U R entitle...</td>\n",
       "      <td>154</td>\n",
       "    </tr>\n",
       "    <tr>\n",
       "      <th>10</th>\n",
       "      <td>ham</td>\n",
       "      <td>I'm gonna be home soon and i don't want to tal...</td>\n",
       "      <td>109</td>\n",
       "    </tr>\n",
       "    <tr>\n",
       "      <th>11</th>\n",
       "      <td>spam</td>\n",
       "      <td>SIX chances to win CASH! From 100 to 20,000 po...</td>\n",
       "      <td>136</td>\n",
       "    </tr>\n",
       "    <tr>\n",
       "      <th>12</th>\n",
       "      <td>spam</td>\n",
       "      <td>URGENT! You have won a 1 week FREE membership ...</td>\n",
       "      <td>155</td>\n",
       "    </tr>\n",
       "    <tr>\n",
       "      <th>13</th>\n",
       "      <td>ham</td>\n",
       "      <td>I've been searching for the right words to tha...</td>\n",
       "      <td>196</td>\n",
       "    </tr>\n",
       "    <tr>\n",
       "      <th>14</th>\n",
       "      <td>ham</td>\n",
       "      <td>I HAVE A DATE ON SUNDAY WITH WILL!!</td>\n",
       "      <td>35</td>\n",
       "    </tr>\n",
       "    <tr>\n",
       "      <th>15</th>\n",
       "      <td>spam</td>\n",
       "      <td>XXXMobileMovieClub: To use your credit, click ...</td>\n",
       "      <td>149</td>\n",
       "    </tr>\n",
       "    <tr>\n",
       "      <th>16</th>\n",
       "      <td>ham</td>\n",
       "      <td>Oh k...i'm watching here:)</td>\n",
       "      <td>26</td>\n",
       "    </tr>\n",
       "    <tr>\n",
       "      <th>17</th>\n",
       "      <td>ham</td>\n",
       "      <td>Eh u remember how 2 spell his name... Yes i di...</td>\n",
       "      <td>81</td>\n",
       "    </tr>\n",
       "    <tr>\n",
       "      <th>18</th>\n",
       "      <td>ham</td>\n",
       "      <td>Fine if thats the way u feel. Thats the way ...</td>\n",
       "      <td>56</td>\n",
       "    </tr>\n",
       "    <tr>\n",
       "      <th>19</th>\n",
       "      <td>spam</td>\n",
       "      <td>England v Macedonia - dont miss the goals/team...</td>\n",
       "      <td>155</td>\n",
       "    </tr>\n",
       "    <tr>\n",
       "      <th>20</th>\n",
       "      <td>ham</td>\n",
       "      <td>Is that seriously how you spell his name?</td>\n",
       "      <td>41</td>\n",
       "    </tr>\n",
       "    <tr>\n",
       "      <th>21</th>\n",
       "      <td>ham</td>\n",
       "      <td>I‘m going to try for 2 months ha ha only joking</td>\n",
       "      <td>47</td>\n",
       "    </tr>\n",
       "    <tr>\n",
       "      <th>22</th>\n",
       "      <td>ham</td>\n",
       "      <td>So ü pay first lar... Then when is da stock co...</td>\n",
       "      <td>52</td>\n",
       "    </tr>\n",
       "    <tr>\n",
       "      <th>23</th>\n",
       "      <td>ham</td>\n",
       "      <td>Aft i finish my lunch then i go str down lor. ...</td>\n",
       "      <td>88</td>\n",
       "    </tr>\n",
       "    <tr>\n",
       "      <th>24</th>\n",
       "      <td>ham</td>\n",
       "      <td>Ffffffffff. Alright no way I can meet up with ...</td>\n",
       "      <td>57</td>\n",
       "    </tr>\n",
       "    <tr>\n",
       "      <th>25</th>\n",
       "      <td>ham</td>\n",
       "      <td>Just forced myself to eat a slice. I'm really ...</td>\n",
       "      <td>144</td>\n",
       "    </tr>\n",
       "    <tr>\n",
       "      <th>26</th>\n",
       "      <td>ham</td>\n",
       "      <td>Lol your always so convincing.</td>\n",
       "      <td>30</td>\n",
       "    </tr>\n",
       "    <tr>\n",
       "      <th>27</th>\n",
       "      <td>ham</td>\n",
       "      <td>Did you catch the bus ? Are you frying an egg ...</td>\n",
       "      <td>134</td>\n",
       "    </tr>\n",
       "    <tr>\n",
       "      <th>28</th>\n",
       "      <td>ham</td>\n",
       "      <td>I'm back &amp;amp; we're packing the car now, I'll...</td>\n",
       "      <td>75</td>\n",
       "    </tr>\n",
       "    <tr>\n",
       "      <th>29</th>\n",
       "      <td>ham</td>\n",
       "      <td>Ahhh. Work. I vaguely remember that! What does...</td>\n",
       "      <td>64</td>\n",
       "    </tr>\n",
       "    <tr>\n",
       "      <th>...</th>\n",
       "      <td>...</td>\n",
       "      <td>...</td>\n",
       "      <td>...</td>\n",
       "    </tr>\n",
       "    <tr>\n",
       "      <th>5542</th>\n",
       "      <td>ham</td>\n",
       "      <td>Armand says get your ass over to epsilon</td>\n",
       "      <td>40</td>\n",
       "    </tr>\n",
       "    <tr>\n",
       "      <th>5543</th>\n",
       "      <td>ham</td>\n",
       "      <td>U still havent got urself a jacket ah?</td>\n",
       "      <td>38</td>\n",
       "    </tr>\n",
       "    <tr>\n",
       "      <th>5544</th>\n",
       "      <td>ham</td>\n",
       "      <td>I'm taking derek &amp;amp; taylor to walmart, if I...</td>\n",
       "      <td>154</td>\n",
       "    </tr>\n",
       "    <tr>\n",
       "      <th>5545</th>\n",
       "      <td>ham</td>\n",
       "      <td>Hi its in durban are you still on this number</td>\n",
       "      <td>45</td>\n",
       "    </tr>\n",
       "    <tr>\n",
       "      <th>5546</th>\n",
       "      <td>ham</td>\n",
       "      <td>Ic. There are a lotta childporn cars then.</td>\n",
       "      <td>42</td>\n",
       "    </tr>\n",
       "    <tr>\n",
       "      <th>5547</th>\n",
       "      <td>spam</td>\n",
       "      <td>Had your contract mobile 11 Mnths? Latest Moto...</td>\n",
       "      <td>160</td>\n",
       "    </tr>\n",
       "    <tr>\n",
       "      <th>5548</th>\n",
       "      <td>ham</td>\n",
       "      <td>No, I was trying it all weekend ;V</td>\n",
       "      <td>34</td>\n",
       "    </tr>\n",
       "    <tr>\n",
       "      <th>5549</th>\n",
       "      <td>ham</td>\n",
       "      <td>You know, wot people wear. T shirts, jumpers, ...</td>\n",
       "      <td>87</td>\n",
       "    </tr>\n",
       "    <tr>\n",
       "      <th>5550</th>\n",
       "      <td>ham</td>\n",
       "      <td>Cool, what time you think you can get here?</td>\n",
       "      <td>43</td>\n",
       "    </tr>\n",
       "    <tr>\n",
       "      <th>5551</th>\n",
       "      <td>ham</td>\n",
       "      <td>Wen did you get so spiritual and deep. That's ...</td>\n",
       "      <td>51</td>\n",
       "    </tr>\n",
       "    <tr>\n",
       "      <th>5552</th>\n",
       "      <td>ham</td>\n",
       "      <td>Have a safe trip to Nigeria. Wish you happines...</td>\n",
       "      <td>91</td>\n",
       "    </tr>\n",
       "    <tr>\n",
       "      <th>5553</th>\n",
       "      <td>ham</td>\n",
       "      <td>Hahaha..use your brain dear</td>\n",
       "      <td>27</td>\n",
       "    </tr>\n",
       "    <tr>\n",
       "      <th>5554</th>\n",
       "      <td>ham</td>\n",
       "      <td>Well keep in mind I've only got enough gas for...</td>\n",
       "      <td>98</td>\n",
       "    </tr>\n",
       "    <tr>\n",
       "      <th>5555</th>\n",
       "      <td>ham</td>\n",
       "      <td>Yeh. Indians was nice. Tho it did kane me off ...</td>\n",
       "      <td>153</td>\n",
       "    </tr>\n",
       "    <tr>\n",
       "      <th>5556</th>\n",
       "      <td>ham</td>\n",
       "      <td>Yes i have. So that's why u texted. Pshew...mi...</td>\n",
       "      <td>63</td>\n",
       "    </tr>\n",
       "    <tr>\n",
       "      <th>5557</th>\n",
       "      <td>ham</td>\n",
       "      <td>No. I meant the calculation is the same. That ...</td>\n",
       "      <td>273</td>\n",
       "    </tr>\n",
       "    <tr>\n",
       "      <th>5558</th>\n",
       "      <td>ham</td>\n",
       "      <td>Sorry, I'll call later</td>\n",
       "      <td>22</td>\n",
       "    </tr>\n",
       "    <tr>\n",
       "      <th>5559</th>\n",
       "      <td>ham</td>\n",
       "      <td>if you aren't here in the next  &amp;lt;#&amp;gt;  hou...</td>\n",
       "      <td>66</td>\n",
       "    </tr>\n",
       "    <tr>\n",
       "      <th>5560</th>\n",
       "      <td>ham</td>\n",
       "      <td>Anything lor. Juz both of us lor.</td>\n",
       "      <td>33</td>\n",
       "    </tr>\n",
       "    <tr>\n",
       "      <th>5561</th>\n",
       "      <td>ham</td>\n",
       "      <td>Get me out of this dump heap. My mom decided t...</td>\n",
       "      <td>70</td>\n",
       "    </tr>\n",
       "    <tr>\n",
       "      <th>5562</th>\n",
       "      <td>ham</td>\n",
       "      <td>Ok lor... Sony ericsson salesman... I ask shuh...</td>\n",
       "      <td>96</td>\n",
       "    </tr>\n",
       "    <tr>\n",
       "      <th>5563</th>\n",
       "      <td>ham</td>\n",
       "      <td>Ard 6 like dat lor.</td>\n",
       "      <td>19</td>\n",
       "    </tr>\n",
       "    <tr>\n",
       "      <th>5564</th>\n",
       "      <td>ham</td>\n",
       "      <td>Why don't you wait 'til at least wednesday to ...</td>\n",
       "      <td>67</td>\n",
       "    </tr>\n",
       "    <tr>\n",
       "      <th>5565</th>\n",
       "      <td>ham</td>\n",
       "      <td>Huh y lei...</td>\n",
       "      <td>12</td>\n",
       "    </tr>\n",
       "    <tr>\n",
       "      <th>5566</th>\n",
       "      <td>spam</td>\n",
       "      <td>REMINDER FROM O2: To get 2.50 pounds free call...</td>\n",
       "      <td>147</td>\n",
       "    </tr>\n",
       "    <tr>\n",
       "      <th>5567</th>\n",
       "      <td>spam</td>\n",
       "      <td>This is the 2nd time we have tried 2 contact u...</td>\n",
       "      <td>160</td>\n",
       "    </tr>\n",
       "    <tr>\n",
       "      <th>5568</th>\n",
       "      <td>ham</td>\n",
       "      <td>Will ü b going to esplanade fr home?</td>\n",
       "      <td>36</td>\n",
       "    </tr>\n",
       "    <tr>\n",
       "      <th>5569</th>\n",
       "      <td>ham</td>\n",
       "      <td>Pity, * was in mood for that. So...any other s...</td>\n",
       "      <td>57</td>\n",
       "    </tr>\n",
       "    <tr>\n",
       "      <th>5570</th>\n",
       "      <td>ham</td>\n",
       "      <td>The guy did some bitching but I acted like i'd...</td>\n",
       "      <td>125</td>\n",
       "    </tr>\n",
       "    <tr>\n",
       "      <th>5571</th>\n",
       "      <td>ham</td>\n",
       "      <td>Rofl. Its true to its name</td>\n",
       "      <td>26</td>\n",
       "    </tr>\n",
       "  </tbody>\n",
       "</table>\n",
       "<p>5572 rows × 3 columns</p>\n",
       "</div>"
      ],
      "text/plain": [
       "     label                                            message  length\n",
       "0      ham  Go until jurong point, crazy.. Available only ...     111\n",
       "1      ham                      Ok lar... Joking wif u oni...      29\n",
       "2     spam  Free entry in 2 a wkly comp to win FA Cup fina...     155\n",
       "3      ham  U dun say so early hor... U c already then say...      49\n",
       "4      ham  Nah I don't think he goes to usf, he lives aro...      61\n",
       "5     spam  FreeMsg Hey there darling it's been 3 week's n...     147\n",
       "6      ham  Even my brother is not like to speak with me. ...      77\n",
       "7      ham  As per your request 'Melle Melle (Oru Minnamin...     160\n",
       "8     spam  WINNER!! As a valued network customer you have...     157\n",
       "9     spam  Had your mobile 11 months or more? U R entitle...     154\n",
       "10     ham  I'm gonna be home soon and i don't want to tal...     109\n",
       "11    spam  SIX chances to win CASH! From 100 to 20,000 po...     136\n",
       "12    spam  URGENT! You have won a 1 week FREE membership ...     155\n",
       "13     ham  I've been searching for the right words to tha...     196\n",
       "14     ham                I HAVE A DATE ON SUNDAY WITH WILL!!      35\n",
       "15    spam  XXXMobileMovieClub: To use your credit, click ...     149\n",
       "16     ham                         Oh k...i'm watching here:)      26\n",
       "17     ham  Eh u remember how 2 spell his name... Yes i di...      81\n",
       "18     ham  Fine if thats the way u feel. Thats the way ...      56\n",
       "19    spam  England v Macedonia - dont miss the goals/team...     155\n",
       "20     ham          Is that seriously how you spell his name?      41\n",
       "21     ham    I‘m going to try for 2 months ha ha only joking      47\n",
       "22     ham  So ü pay first lar... Then when is da stock co...      52\n",
       "23     ham  Aft i finish my lunch then i go str down lor. ...      88\n",
       "24     ham  Ffffffffff. Alright no way I can meet up with ...      57\n",
       "25     ham  Just forced myself to eat a slice. I'm really ...     144\n",
       "26     ham                     Lol your always so convincing.      30\n",
       "27     ham  Did you catch the bus ? Are you frying an egg ...     134\n",
       "28     ham  I'm back &amp; we're packing the car now, I'll...      75\n",
       "29     ham  Ahhh. Work. I vaguely remember that! What does...      64\n",
       "...    ...                                                ...     ...\n",
       "5542   ham           Armand says get your ass over to epsilon      40\n",
       "5543   ham             U still havent got urself a jacket ah?      38\n",
       "5544   ham  I'm taking derek &amp; taylor to walmart, if I...     154\n",
       "5545   ham      Hi its in durban are you still on this number      45\n",
       "5546   ham         Ic. There are a lotta childporn cars then.      42\n",
       "5547  spam  Had your contract mobile 11 Mnths? Latest Moto...     160\n",
       "5548   ham                 No, I was trying it all weekend ;V      34\n",
       "5549   ham  You know, wot people wear. T shirts, jumpers, ...      87\n",
       "5550   ham        Cool, what time you think you can get here?      43\n",
       "5551   ham  Wen did you get so spiritual and deep. That's ...      51\n",
       "5552   ham  Have a safe trip to Nigeria. Wish you happines...      91\n",
       "5553   ham                        Hahaha..use your brain dear      27\n",
       "5554   ham  Well keep in mind I've only got enough gas for...      98\n",
       "5555   ham  Yeh. Indians was nice. Tho it did kane me off ...     153\n",
       "5556   ham  Yes i have. So that's why u texted. Pshew...mi...      63\n",
       "5557   ham  No. I meant the calculation is the same. That ...     273\n",
       "5558   ham                             Sorry, I'll call later      22\n",
       "5559   ham  if you aren't here in the next  &lt;#&gt;  hou...      66\n",
       "5560   ham                  Anything lor. Juz both of us lor.      33\n",
       "5561   ham  Get me out of this dump heap. My mom decided t...      70\n",
       "5562   ham  Ok lor... Sony ericsson salesman... I ask shuh...      96\n",
       "5563   ham                                Ard 6 like dat lor.      19\n",
       "5564   ham  Why don't you wait 'til at least wednesday to ...      67\n",
       "5565   ham                                       Huh y lei...      12\n",
       "5566  spam  REMINDER FROM O2: To get 2.50 pounds free call...     147\n",
       "5567  spam  This is the 2nd time we have tried 2 contact u...     160\n",
       "5568   ham               Will ü b going to esplanade fr home?      36\n",
       "5569   ham  Pity, * was in mood for that. So...any other s...      57\n",
       "5570   ham  The guy did some bitching but I acted like i'd...     125\n",
       "5571   ham                         Rofl. Its true to its name      26\n",
       "\n",
       "[5572 rows x 3 columns]"
      ]
     },
     "execution_count": 80,
     "metadata": {},
     "output_type": "execute_result"
    }
   ],
   "source": [
    "messages"
   ]
  },
  {
   "cell_type": "code",
   "execution_count": 81,
   "metadata": {},
   "outputs": [],
   "source": [
    "import matplotlib.pyplot as plt\n",
    "import seaborn as sns"
   ]
  },
  {
   "cell_type": "code",
   "execution_count": 82,
   "metadata": {},
   "outputs": [],
   "source": [
    "%matplotlib inline\n"
   ]
  },
  {
   "cell_type": "code",
   "execution_count": 83,
   "metadata": {},
   "outputs": [
    {
     "data": {
      "text/plain": [
       "<matplotlib.axes._subplots.AxesSubplot at 0x28a35f86978>"
      ]
     },
     "execution_count": 83,
     "metadata": {},
     "output_type": "execute_result"
    },
    {
     "data": {
      "image/png": "[encoded data removed]",
      "text/plain": [
       "<Figure size 432x288 with 1 Axes>"
      ]
     },
     "metadata": {
      "needs_background": "light"
     },
     "output_type": "display_data"
    }
   ],
   "source": [
    "messages['length'].plot(bins=50,kind='hist')"
   ]
  },
  {
   "cell_type": "code",
   "execution_count": 84,
   "metadata": {},
   "outputs": [
    {
     "data": {
      "text/plain": [
       "count    5572.000000\n",
       "mean       80.489950\n",
       "std        59.942907\n",
       "min         2.000000\n",
       "25%        36.000000\n",
       "50%        62.000000\n",
       "75%       122.000000\n",
       "max       910.000000\n",
       "Name: length, dtype: float64"
      ]
     },
     "execution_count": 84,
     "metadata": {},
     "output_type": "execute_result"
    }
   ],
   "source": [
    "messages.length.describe()"
   ]
  },
  {
   "cell_type": "code",
   "execution_count": 85,
   "metadata": {},
   "outputs": [
    {
     "data": {
      "text/plain": [
       "\"For me the love should start with attraction.i should feel that I need her every time around me.she should be the first thing which comes in my thoughts.I would start the day and end it with her.she should be there every time I dream.love will be then when my every breath has her name.my life should happen around her.my life will be named to her.I would cry for her.will give all my happiness and take all her sorrows.I will be ready to fight with anyone for her.I will be in love when I will be doing the craziest things for her.love will be when I don't have to proove anyone that my girl is the most beautiful lady on the whole planet.I will always be singing praises for her.love will be when I start up making chicken curry and end up makiing sambar.life will be the most beautiful then.will get every morning and thank god for the day because she is with me.I would like to say a lot..will tell later..\""
      ]
     },
     "execution_count": 85,
     "metadata": {},
     "output_type": "execute_result"
    }
   ],
   "source": [
    "messages[messages['length']==910]['message'].iloc[0]"
   ]
  },
  {
   "cell_type": "code",
   "execution_count": 86,
   "metadata": {},
   "outputs": [
    {
     "data": {
      "text/plain": [
       "array([<matplotlib.axes._subplots.AxesSubplot object at 0x0000028A3604B550>,\n",
       "       <matplotlib.axes._subplots.AxesSubplot object at 0x0000028A360F0EB8>],\n",
       "      dtype=object)"
      ]
     },
     "execution_count": 86,
     "metadata": {},
     "output_type": "execute_result"
    },
    {
     "data": {
      "image/png": "[encoded data removed]",
      "text/plain": [
       "<Figure size 864x288 with 2 Axes>"
      ]
     },
     "metadata": {
      "needs_background": "light"
     },
     "output_type": "display_data"
    }
   ],
   "source": [
    "messages.hist(column='length',by='label',bins=50,figsize=(12,4))"
   ]
  },
  {
   "cell_type": "code",
   "execution_count": 87,
   "metadata": {},
   "outputs": [],
   "source": [
    "import string\n"
   ]
  },
  {
   "cell_type": "code",
   "execution_count": 88,
   "metadata": {},
   "outputs": [],
   "source": [
    "mess='Sample message! Notice: it has  punctuation.'\n",
    "nopunc=[char for char in mess if char not in string.punctuation]\n",
    "nopunc=\"\".join(nopunc)"
   ]
  },
  {
   "cell_type": "code",
   "execution_count": 89,
   "metadata": {},
   "outputs": [
    {
     "data": {
      "text/plain": [
       "'Sample message Notice it has  punctuation'"
      ]
     },
     "execution_count": 89,
     "metadata": {},
     "output_type": "execute_result"
    }
   ],
   "source": [
    "nopunc"
   ]
  },
  {
   "cell_type": "code",
   "execution_count": 90,
   "metadata": {},
   "outputs": [],
   "source": [
    "from nltk.corpus import stopwords"
   ]
  },
  {
   "cell_type": "code",
   "execution_count": 91,
   "metadata": {},
   "outputs": [
    {
     "data": {
      "text/plain": [
       "['i', 'me', 'my', 'myself', 'we', 'our', 'ours', 'ourselves', 'you', \"you're\"]"
      ]
     },
     "execution_count": 91,
     "metadata": {},
     "output_type": "execute_result"
    }
   ],
   "source": [
    "stopwords.words('english')[0:10]\n"
   ]
  },
  {
   "cell_type": "code",
   "execution_count": 92,
   "metadata": {},
   "outputs": [
    {
     "name": "stderr",
     "output_type": "stream",
     "text": [
      "[nltk_data] Downloading package stopwords to\n",
      "[nltk_data]     C:\\Users\\LOGAN\\AppData\\Roaming\\nltk_data...\n",
      "[nltk_data]   Package stopwords is already up-to-date!\n"
     ]
    },
    {
     "data": {
      "text/plain": [
       "True"
      ]
     },
     "execution_count": 92,
     "metadata": {},
     "output_type": "execute_result"
    }
   ],
   "source": [
    "import nltk\n",
    "nltk.download('stopwords')"
   ]
  },
  {
   "cell_type": "code",
   "execution_count": 93,
   "metadata": {},
   "outputs": [
    {
     "data": {
      "text/plain": [
       "['Sample', 'message', 'Notice', 'it', 'has', 'punctuation']"
      ]
     },
     "execution_count": 93,
     "metadata": {},
     "output_type": "execute_result"
    }
   ],
   "source": [
    "nopunc.split()\n"
   ]
  },
  {
   "cell_type": "code",
   "execution_count": 94,
   "metadata": {},
   "outputs": [],
   "source": [
    "class_mess=[word for word in nopunc.split() if  word.lower() not in stopwords.words('english')]"
   ]
  },
  {
   "cell_type": "code",
   "execution_count": 95,
   "metadata": {},
   "outputs": [
    {
     "data": {
      "text/plain": [
       "['Sample', 'message', 'Notice', 'punctuation']"
      ]
     },
     "execution_count": 95,
     "metadata": {},
     "output_type": "execute_result"
    }
   ],
   "source": [
    "class_mess"
   ]
  },
  {
   "cell_type": "code",
   "execution_count": 96,
   "metadata": {},
   "outputs": [],
   "source": [
    "def text_process(mess):\n",
    "    nopunc=[char for char in mess if char not in string.punctuation]\n",
    "    nopunc=\"\".join(nopunc)\n",
    "    return [word for word in nopunc.split() if word.lower() not in stopwords.words('english')]"
   ]
  },
  {
   "cell_type": "code",
   "execution_count": 97,
   "metadata": {},
   "outputs": [],
   "source": [
    "res=text_process(nopunc)"
   ]
  },
  {
   "cell_type": "raw",
   "metadata": {},
   "source": [
    "res"
   ]
  },
  {
   "cell_type": "code",
   "execution_count": 98,
   "metadata": {},
   "outputs": [
    {
     "data": {
      "text/plain": [
       "['Sample', 'message', 'Notice', 'punctuation']"
      ]
     },
     "execution_count": 98,
     "metadata": {},
     "output_type": "execute_result"
    }
   ],
   "source": [
    "res"
   ]
  },
  {
   "cell_type": "code",
   "execution_count": 99,
   "metadata": {},
   "outputs": [
    {
     "data": {
      "text/plain": [
       "0    [Go, jurong, point, crazy, Available, bugis, n...\n",
       "1                       [Ok, lar, Joking, wif, u, oni]\n",
       "2    [Free, entry, 2, wkly, comp, win, FA, Cup, fin...\n",
       "3        [U, dun, say, early, hor, U, c, already, say]\n",
       "4    [Nah, dont, think, goes, usf, lives, around, t...\n",
       "Name: message, dtype: object"
      ]
     },
     "execution_count": 99,
     "metadata": {},
     "output_type": "execute_result"
    }
   ],
   "source": [
    "messages['message'].head(5).apply(text_process)"
   ]
  },
  {
   "cell_type": "code",
   "execution_count": 100,
   "metadata": {},
   "outputs": [],
   "source": [
    "from sklearn.feature_extraction.text import CountVectorizer"
   ]
  },
  {
   "cell_type": "raw",
   "metadata": {},
   "source": []
  },
  {
   "cell_type": "code",
   "execution_count": 104,
   "metadata": {},
   "outputs": [],
   "source": [
    "bow_transformer=CountVectorizer(analyzer=text_process).fit(messages['message'])"
   ]
  },
  {
   "cell_type": "code",
   "execution_count": null,
   "metadata": {},
   "outputs": [],
   "source": []
  },
  {
   "cell_type": "code",
   "execution_count": 102,
   "metadata": {},
   "outputs": [
    {
     "data": {
      "text/plain": [
       "CountVectorizer(analyzer=<function text_process at 0x0000028A36298268>,\n",
       "        binary=False, decode_error='strict', dtype=<class 'numpy.int64'>,\n",
       "        encoding='utf-8', input='content', lowercase=True, max_df=1.0,\n",
       "        max_features=None, min_df=1, ngram_range=(1, 1), preprocessor=None,\n",
       "        stop_words=None, strip_accents=None,\n",
       "        token_pattern='(?u)\\\\b\\\\w\\\\w+\\\\b', tokenizer=None, vocabulary=None)"
      ]
     },
     "execution_count": 102,
     "metadata": {},
     "output_type": "execute_result"
    }
   ],
   "source": [
    "bow_transformer"
   ]
  },
  {
   "cell_type": "raw",
   "metadata": {},
   "source": []
  },
  {
   "cell_type": "code",
   "execution_count": 105,
   "metadata": {},
   "outputs": [
    {
     "name": "stdout",
     "output_type": "stream",
     "text": [
      "11425\n"
     ]
    }
   ],
   "source": [
    "print(len(bow_transformer.vocabulary_))"
   ]
  },
  {
   "cell_type": "code",
   "execution_count": 106,
   "metadata": {},
   "outputs": [],
   "source": [
    "message4=messages['message'][4]"
   ]
  },
  {
   "cell_type": "markdown",
   "metadata": {},
   "source": [
    "#### "
   ]
  },
  {
   "cell_type": "code",
   "execution_count": 107,
   "metadata": {},
   "outputs": [
    {
     "name": "stdout",
     "output_type": "stream",
     "text": [
      "Nah I don't think he goes to usf, he lives around here though\n"
     ]
    }
   ],
   "source": [
    "print(message4)"
   ]
  },
  {
   "cell_type": "code",
   "execution_count": null,
   "metadata": {},
   "outputs": [],
   "source": []
  },
  {
   "cell_type": "markdown",
   "metadata": {},
   "source": [
    "#### "
   ]
  },
  {
   "cell_type": "code",
   "execution_count": 108,
   "metadata": {},
   "outputs": [],
   "source": [
    "bow4=bow_transformer.transform(['message4'])"
   ]
  },
  {
   "cell_type": "code",
   "execution_count": 109,
   "metadata": {},
   "outputs": [
    {
     "name": "stdout",
     "output_type": "stream",
     "text": [
      "\n"
     ]
    }
   ],
   "source": [
    "print(bow4)"
   ]
  },
  {
   "cell_type": "code",
   "execution_count": 110,
   "metadata": {},
   "outputs": [
    {
     "name": "stdout",
     "output_type": "stream",
     "text": [
      "(1, 11425)\n"
     ]
    }
   ],
   "source": [
    "print(bow4.shape)"
   ]
  },
  {
   "cell_type": "code",
   "execution_count": 113,
   "metadata": {},
   "outputs": [
    {
     "name": "stdout",
     "output_type": "stream",
     "text": [
      "UIN\n"
     ]
    }
   ],
   "source": [
    "print(bow_transformer.get_feature_names()[4073])"
   ]
  },
  {
   "cell_type": "code",
   "execution_count": 114,
   "metadata": {},
   "outputs": [
    {
     "name": "stdout",
     "output_type": "stream",
     "text": [
      "score\n"
     ]
    }
   ],
   "source": [
    "print(bow_transformer.get_feature_names()[9576])"
   ]
  },
  {
   "cell_type": "code",
   "execution_count": 115,
   "metadata": {},
   "outputs": [],
   "source": [
    "messages_bow=bow_transformer.transform(messages['message'])"
   ]
  },
  {
   "cell_type": "code",
   "execution_count": 116,
   "metadata": {},
   "outputs": [
    {
     "name": "stdout",
     "output_type": "stream",
     "text": [
      "Shape of Sparse Matrix is (5572, 11425)\n",
      "Amount of non zero occurences 50548\n"
     ]
    }
   ],
   "source": [
    "print('Shape of Sparse Matrix is',messages_bow.shape)\n",
    "print('Amount of non zero occurences',messages_bow.nnz)"
   ]
  },
  {
   "cell_type": "code",
   "execution_count": 117,
   "metadata": {},
   "outputs": [
    {
     "name": "stdout",
     "output_type": "stream",
     "text": [
      "sparsity:0\n"
     ]
    }
   ],
   "source": [
    "sparsity=(100.0*messages_bow.nnz/(messages_bow.shape[0]*messages_bow.shape[1]))\n",
    "print('sparsity:{}'.format(round(sparsity)))"
   ]
  },
  {
   "cell_type": "code",
   "execution_count": 126,
   "metadata": {},
   "outputs": [
    {
     "name": "stdout",
     "output_type": "stream",
     "text": [
      "\n"
     ]
    }
   ],
   "source": [
    "from sklearn.feature_extraction.text import TfidfTransformer\n",
    "tfidf_transformer=TfidfTransformer().fit(messages_bow)\n",
    "tfidf4=tfidf_transformer.transform(bow4)\n",
    "print(tfidf4)"
   ]
  },
  {
   "cell_type": "code",
   "execution_count": 127,
   "metadata": {},
   "outputs": [
    {
     "name": "stdout",
     "output_type": "stream",
     "text": [
      "3.2800524267409408\n",
      "8.527076498901426\n"
     ]
    }
   ],
   "source": [
    "print(tfidf_transformer.idf_[bow_transformer.vocabulary_['u']])\n",
    "print(tfidf_transformer.idf_[bow_transformer.vocabulary_['university']])"
   ]
  },
  {
   "cell_type": "code",
   "execution_count": 128,
   "metadata": {},
   "outputs": [
    {
     "name": "stdout",
     "output_type": "stream",
     "text": [
      "(5572, 11425)\n"
     ]
    }
   ],
   "source": [
    "messages_tfidf=tfidf_transformer.transform(messages_bow)\n",
    "print(messages_tfidf.shape)"
   ]
  },
  {
   "cell_type": "code",
   "execution_count": 133,
   "metadata": {},
   "outputs": [],
   "source": [
    "from sklearn.naive_bayes import MultinomialNB\n",
    "spam_detect_model=MultinomialNB().fit(messages_tfidf,messages['label'])\n"
   ]
  },
  {
   "cell_type": "code",
   "execution_count": 134,
   "metadata": {},
   "outputs": [
    {
     "name": "stdout",
     "output_type": "stream",
     "text": [
      "predicted: ham\n",
      "expected ham\n"
     ]
    }
   ],
   "source": [
    "print('predicted:',spam_detect_model.predict(tfidf4)[0])\n",
    "print('expected',messages.label[3])"
   ]
  },
  {
   "cell_type": "code",
   "execution_count": 135,
   "metadata": {},
   "outputs": [
    {
     "name": "stdout",
     "output_type": "stream",
     "text": [
      "['ham' 'ham' 'spam' ... 'ham' 'ham' 'ham']\n"
     ]
    }
   ],
   "source": [
    "all_predictions=spam_detect_model.predict(messages_tfidf)\n",
    "print(all_predictions)"
   ]
  },
  {
   "cell_type": "code",
   "execution_count": 138,
   "metadata": {},
   "outputs": [
    {
     "name": "stdout",
     "output_type": "stream",
     "text": [
      "              precision    recall  f1-score   support\n",
      "\n",
      "         ham       0.98      1.00      0.99      4825\n",
      "        spam       1.00      0.85      0.92       747\n",
      "\n",
      "   micro avg       0.98      0.98      0.98      5572\n",
      "   macro avg       0.99      0.92      0.95      5572\n",
      "weighted avg       0.98      0.98      0.98      5572\n",
      "\n"
     ]
    }
   ],
   "source": [
    "from sklearn.metrics import classification_report\n",
    "print(classification_report(messages['label'],all_predictions))"
   ]
  },
  {
   "cell_type": "code",
   "execution_count": null,
   "metadata": {},
   "outputs": [],
   "source": []
  }
 ],
 "metadata": {
  "kernelspec": {
   "display_name": "Python 3",
   "language": "python",
   "name": "python3"
  },
  "language_info": {
   "codemirror_mode": {
    "name": "ipython",
    "version": 3
   },
   "file_extension": ".py",
   "mimetype": "text/x-python",
   "name": "python",
   "nbconvert_exporter": "python",
   "pygments_lexer": "ipython3",
   "version": "3.7.1"
  }
 },
 "nbformat": 4,
 "nbformat_minor": 2
}
